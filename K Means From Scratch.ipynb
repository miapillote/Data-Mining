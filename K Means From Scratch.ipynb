{
  "nbformat": 4,
  "nbformat_minor": 0,
  "metadata": {
    "colab": {
      "provenance": []
    },
    "kernelspec": {
      "name": "python3",
      "display_name": "Python 3"
    },
    "language_info": {
      "name": "python"
    },
    "accelerator": "GPU",
    "gpuClass": "standard",
    "widgets": {
      "application/vnd.jupyter.widget-state+json": {
        "670773383bcf4d0ca1dfa497069c7188": {
          "model_module": "@jupyter-widgets/controls",
          "model_name": "IntProgressModel",
          "model_module_version": "1.5.0",
          "state": {
            "_dom_classes": [],
            "_model_module": "@jupyter-widgets/controls",
            "_model_module_version": "1.5.0",
            "_model_name": "IntProgressModel",
            "_view_count": null,
            "_view_module": "@jupyter-widgets/controls",
            "_view_module_version": "1.5.0",
            "_view_name": "ProgressView",
            "bar_style": "",
            "description": "",
            "description_tooltip": null,
            "layout": "IPY_MODEL_ef9f3b536cea4af6a733fbcead2c4b4b",
            "max": 100,
            "min": 0,
            "orientation": "horizontal",
            "style": "IPY_MODEL_841e092ae0a24cac8917b991d21043c0",
            "value": 98
          }
        },
        "ef9f3b536cea4af6a733fbcead2c4b4b": {
          "model_module": "@jupyter-widgets/base",
          "model_name": "LayoutModel",
          "model_module_version": "1.2.0",
          "state": {
            "_model_module": "@jupyter-widgets/base",
            "_model_module_version": "1.2.0",
            "_model_name": "LayoutModel",
            "_view_count": null,
            "_view_module": "@jupyter-widgets/base",
            "_view_module_version": "1.2.0",
            "_view_name": "LayoutView",
            "align_content": null,
            "align_items": null,
            "align_self": null,
            "border": null,
            "bottom": null,
            "display": null,
            "flex": null,
            "flex_flow": null,
            "grid_area": null,
            "grid_auto_columns": null,
            "grid_auto_flow": null,
            "grid_auto_rows": null,
            "grid_column": null,
            "grid_gap": null,
            "grid_row": null,
            "grid_template_areas": null,
            "grid_template_columns": null,
            "grid_template_rows": null,
            "height": null,
            "justify_content": null,
            "justify_items": null,
            "left": null,
            "margin": null,
            "max_height": null,
            "max_width": null,
            "min_height": null,
            "min_width": null,
            "object_fit": null,
            "object_position": null,
            "order": null,
            "overflow": null,
            "overflow_x": null,
            "overflow_y": null,
            "padding": null,
            "right": null,
            "top": null,
            "visibility": null,
            "width": null
          }
        },
        "841e092ae0a24cac8917b991d21043c0": {
          "model_module": "@jupyter-widgets/controls",
          "model_name": "ProgressStyleModel",
          "model_module_version": "1.5.0",
          "state": {
            "_model_module": "@jupyter-widgets/controls",
            "_model_module_version": "1.5.0",
            "_model_name": "ProgressStyleModel",
            "_view_count": null,
            "_view_module": "@jupyter-widgets/base",
            "_view_module_version": "1.2.0",
            "_view_name": "StyleView",
            "bar_color": null,
            "description_width": ""
          }
        }
      }
    }
  },
  "cells": [
    {
      "cell_type": "markdown",
      "source": [
        "# K-Means Clustering: Python Implementation from Scratch"
      ],
      "metadata": {
        "id": "J0MlF22BGse_"
      }
    },
    {
      "cell_type": "markdown",
      "source": [
        "The main objective of the k-means algorithm is to minimize the sum of distances between the data points and their respective cluster's centroid."
      ],
      "metadata": {
        "id": "WN8TzUw1GyCI"
      }
    },
    {
      "cell_type": "code",
      "source": [
        "#Importing Libraries\n",
        "import matplotlib.pyplot as plt\n",
        "from matplotlib.pyplot import cm\n",
        "import numpy as np\n",
        "from matplotlib import style\n",
        "style.use('ggplot')"
      ],
      "metadata": {
        "id": "OXsH7ADVHByI"
      },
      "execution_count": null,
      "outputs": []
    },
    {
      "cell_type": "code",
      "source": [
        "\n",
        "class K_Means:\n",
        "    def __init__(self, k = 3, tol=0.001, max_iter = 300):\n",
        "        self.k = k\n",
        "        self.tol = tol\n",
        "        self.max_iter = max_iter\n",
        "    \n",
        "    def optimizedFit(self,data):\n",
        "      self.centroids = data[np.random.choice(len(data), self.k, replace=False), :]\n",
        "\n",
        "      for i in range(self.max_iter):\n",
        "        distances = np.linalg.norm(data[:, np.newaxis, :] - self.centroids[np.newaxis, :, :], axis=2)\n",
        "        self.classifications = np.argmin(distances, axis=1)\n",
        "        self.classifications = [np.where(self.classifications == c)[0] for c in range(self.k)]\n",
        "\n",
        "        prev_centroids = np.copy(self.centroids)\n",
        "\n",
        "        for c in range(self.k):\n",
        "            if len(self.classifications[c]) > 0:\n",
        "                self.centroids[c] = np.mean(data[self.classifications[c], :], axis=0)\n",
        "\n",
        "        if np.linalg.norm(self.centroids - prev_centroids) < self.tol:\n",
        "            break\n",
        "    \n",
        "    def predict(self,data):\n",
        "        distances = [np.linalg.norm(data-self.centroids[centroid]) for centroid in self.centroids]\n",
        "        classification = distances.index(min(distances))\n",
        "        return classification"
      ],
      "metadata": {
        "id": "t5HV9KYQSsK0"
      },
      "execution_count": null,
      "outputs": []
    },
    {
      "cell_type": "markdown",
      "source": [
        "# Preprocessing"
      ],
      "metadata": {
        "id": "EnqLRpPOHXtw"
      }
    },
    {
      "cell_type": "markdown",
      "source": [
        "This data set is kind of massive (or, at the very least, much larger than what I'm used to working with), and I'm not entirely sure how much time I want to/can spend on computation, so I'm going to take a look at this gzip file and see what it has to offer me."
      ],
      "metadata": {
        "id": "l7qnPltjHcWV"
      }
    },
    {
      "cell_type": "code",
      "source": [
        "FILE = open('/content/drive/MyDrive/School/d. Undergrad/Year 2/Spring/CSC 240/Homework5/vocab.pubmed.txt','r')\n",
        "words = FILE.readlines()\n",
        "\n",
        "# strip the newline character\n",
        "for i, word in enumerate(words):\n",
        "  words[i] = words[i].strip()\n"
      ],
      "metadata": {
        "id": "cbuablq-WEJt"
      },
      "execution_count": null,
      "outputs": []
    },
    {
      "cell_type": "markdown",
      "source": [
        "That first step of preprocessing seemed to go pretty quickly, which is good news.\n",
        "\n",
        "Next up in my journey is to develop some quantitative measures for the words.\n",
        "\n",
        "I'll be sorting each word into a one-dimensional matrix of the frequency of each letter in the english alphabet, regardless of case."
      ],
      "metadata": {
        "id": "KS4Rn1OIdndp"
      }
    },
    {
      "cell_type": "code",
      "source": [
        "def wordSort(word):\n",
        "  if not (word.isalpha() and word.isascii()):\n",
        "    return 0\n",
        "  letterList = [0,0,0,0,0,0,0,0,0,0,0,0,0,0,0,0,0,0,0,0,0,0,0,0,0,0]\n",
        "  for letter in word:\n",
        "    ascii = ord(letter)\n",
        "    subtract = 97 #the decimal ascii code for 'a'\n",
        "    if ascii <= 90:\n",
        "      subtract = 65 #the decimal ascii code for 'A'\n",
        "    letterList[ascii-subtract] += 1 #shift the codes to 0 to fit in my matrix\n",
        "  return letterList\n"
      ],
      "metadata": {
        "id": "FtCmYWfkfvFU"
      },
      "execution_count": null,
      "outputs": []
    },
    {
      "cell_type": "code",
      "source": [
        "import pandas as pd\n",
        "import numpy as np"
      ],
      "metadata": {
        "id": "avxWyMwcZVUb"
      },
      "execution_count": null,
      "outputs": []
    },
    {
      "cell_type": "code",
      "source": [
        "data = []\n",
        "for word in words:\n",
        "  x = wordSort(word)\n",
        "  if not x == 0:\n",
        "    data.append(x)\n",
        "\n",
        "arr = np.array(data)"
      ],
      "metadata": {
        "id": "tWFfesGOZ0J6"
      },
      "execution_count": null,
      "outputs": []
    },
    {
      "cell_type": "code",
      "source": [
        "arr"
      ],
      "metadata": {
        "colab": {
          "base_uri": "https://localhost:8080/"
        },
        "id": "toUs-hXDzUet",
        "outputId": "a4c8c188-2703-4d7e-8087-1d449b217ce2"
      },
      "execution_count": null,
      "outputs": [
        {
          "output_type": "execute_result",
          "data": {
            "text/plain": [
              "array([[2, 0, 0, ..., 0, 0, 0],\n",
              "       [3, 0, 0, ..., 0, 0, 0],\n",
              "       [4, 0, 0, ..., 0, 0, 0],\n",
              "       ...,\n",
              "       [0, 0, 0, ..., 0, 1, 1],\n",
              "       [0, 0, 0, ..., 1, 1, 1],\n",
              "       [0, 0, 0, ..., 0, 0, 2]])"
            ]
          },
          "metadata": {},
          "execution_count": 7
        }
      ]
    },
    {
      "cell_type": "code",
      "source": [
        "cleanWords = []\n",
        "for word in words:\n",
        "  if not wordSort(word) == 0:\n",
        "    cleanWords.append(word)"
      ],
      "metadata": {
        "id": "QT7inDiIeTSb"
      },
      "execution_count": null,
      "outputs": []
    },
    {
      "cell_type": "markdown",
      "source": [
        "#The Elbow Method"
      ],
      "metadata": {
        "id": "QRKgYvaQTt57"
      }
    },
    {
      "cell_type": "code",
      "source": [
        "from sklearn.metrics import pairwise_distances_argmin_min\n",
        "from ipywidgets import IntProgress\n",
        "from IPython.display import display\n",
        "\n",
        "max_count = 100\n",
        "f = IntProgress(min = 0, max = 100)\n",
        "display(f)\n",
        "\n",
        "elbow = []\n",
        "for k in range(2,100):\n",
        "  elbowModel = K_Means(k = k,tol = 0.00001, max_iter = 2000)\n",
        "  elbowModel.optimizedFit(arr)\n",
        "  labels, mindist = pairwise_distances_argmin_min(X = arr, Y = elbowModel.centroids)\n",
        "  elbow.append([k,mindist.sum()])\n",
        "  f.value += 1\n",
        "\n",
        "elbowdf = pd.DataFrame(elbow,columns = ['k','cost'])"
      ],
      "metadata": {
        "colab": {
          "base_uri": "https://localhost:8080/",
          "height": 49,
          "referenced_widgets": [
            "670773383bcf4d0ca1dfa497069c7188",
            "ef9f3b536cea4af6a733fbcead2c4b4b",
            "841e092ae0a24cac8917b991d21043c0"
          ]
        },
        "id": "q26H-CuakdeZ",
        "outputId": "3cc0d657-a598-4c20-8b44-b8c620bbb5ef"
      },
      "execution_count": null,
      "outputs": [
        {
          "data": {
            "application/vnd.jupyter.widget-view+json": {
              "model_id": "670773383bcf4d0ca1dfa497069c7188",
              "version_major": 2,
              "version_minor": 0
            },
            "text/plain": [
              "IntProgress(value=0)"
            ]
          },
          "metadata": {},
          "output_type": "display_data"
        }
      ]
    },
    {
      "cell_type": "code",
      "source": [
        "plt.plot(elbowdf['k'],elbowdf['cost'])\n",
        "elbowfig = plt.gcf()\n",
        "elbowfig.savefig('/content/drive/MyDrive/School/d. Undergrad/Year 2/Spring/CSC 240/Homework5/elbow.png')"
      ],
      "metadata": {
        "colab": {
          "base_uri": "https://localhost:8080/",
          "height": 430
        },
        "id": "2X_rdW2xVVjV",
        "outputId": "49e99a70-3250-4370-dc61-1d0371c4fa0f"
      },
      "execution_count": null,
      "outputs": [
        {
          "output_type": "display_data",
          "data": {
            "text/plain": [
              "<Figure size 640x480 with 1 Axes>"
            ],
            "image/png": "[encoded data removed]"
          },
          "metadata": {}
        }
      ]
    },
    {
      "cell_type": "markdown",
      "source": [
        "The cost appears to decrease linearly after k = 15, which is a reasonable number of classifications for a data set of this size and variety."
      ],
      "metadata": {
        "id": "Z3CwQlIiKkhT"
      }
    },
    {
      "cell_type": "markdown",
      "source": [
        "#Training and Predictions"
      ],
      "metadata": {
        "id": "vU8iwfi8T-UJ"
      }
    },
    {
      "cell_type": "code",
      "source": [
        "model = K_Means(k = 15, tol = 0.00001, max_iter = 2000)\n",
        "model.optimizedFit(arr)\n",
        "\n",
        "classifications = []\n",
        "for i in range(len(cleanWords)):\n",
        "  classifications.append([cleanWords[i], model.predict(arr[i])])\n",
        "\n",
        "classificationsDF = pd.DataFrame(classifications)"
      ],
      "metadata": {
        "id": "CgB9NMYNMEBX"
      },
      "execution_count": null,
      "outputs": []
    },
    {
      "cell_type": "markdown",
      "source": [
        "Cast everything into dataframes and save to my Drive."
      ],
      "metadata": {
        "id": "i0ktcfERUIsg"
      }
    },
    {
      "cell_type": "code",
      "source": [
        "classificationsDF.to_csv('/content/drive/MyDrive/School/d. Undergrad/Year 2/Spring/CSC 240/Homework5/predictions.csv')"
      ],
      "metadata": {
        "id": "BMap7m-RbS-u"
      },
      "execution_count": null,
      "outputs": []
    },
    {
      "cell_type": "code",
      "source": [
        "centroids = pd.DataFrame(model.centroids, columns = ['a','b','c','d','e','f','g','h','i','j','k','l','m','n','o','p','q','r','s','t','u','v','w','x','y','z'])"
      ],
      "metadata": {
        "id": "YmdXI7CjhPAG"
      },
      "execution_count": null,
      "outputs": []
    },
    {
      "cell_type": "code",
      "source": [
        "centroids.to_csv('/content/drive/MyDrive/School/d. Undergrad/Year 2/Spring/CSC 240/Homework5/centroids.csv')"
      ],
      "metadata": {
        "id": "7mi0uOQYiLYX"
      },
      "execution_count": null,
      "outputs": []
    }
  ]
}