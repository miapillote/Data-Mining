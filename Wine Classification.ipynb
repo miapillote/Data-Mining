{
  "nbformat": 4,
  "nbformat_minor": 0,
  "metadata": {
    "colab": {
      "provenance": []
    },
    "kernelspec": {
      "name": "python3",
      "display_name": "Python 3"
    },
    "language_info": {
      "name": "python"
    }
  },
  "cells": [
    {
      "cell_type": "code",
      "execution_count": null,
      "metadata": {
        "id": "F2JFccH8u4sT"
      },
      "outputs": [],
      "source": [
        "import pandas as pd\n",
        "import numpy as np\n",
        "import math\n",
        "import matplotlib.pyplot as plt\n",
        "import seaborn as sns\n",
        "from sklearn.model_selection import train_test_split\n",
        "from sklearn.preprocessing import RobustScaler\n",
        "from sklearn.naive_bayes import GaussianNB\n",
        "from sklearn.metrics import accuracy_score"
      ]
    },
    {
      "cell_type": "code",
      "source": [
        "df = pd.read_csv('/content/drive/MyDrive/School/d. Undergrad/Year 2/Spring/CSC 240/Homework4/wine.data')"
      ],
      "metadata": {
        "id": "AZqnGgQPw2TR"
      },
      "execution_count": null,
      "outputs": []
    },
    {
      "cell_type": "markdown",
      "source": [
        "Because this dataset is composed of properly formatted continuous variables, I don't have much cleaning to do beyond standardization."
      ],
      "metadata": {
        "id": "8b3Kjfk-1sLT"
      }
    },
    {
      "cell_type": "code",
      "source": [
        "#check for missing values\n",
        "df.isnull().sum()"
      ],
      "metadata": {
        "colab": {
          "base_uri": "https://localhost:8080/"
        },
        "id": "PKhx4N9OxOOg",
        "outputId": "31401bab-aa8c-4354-f3be-c0931eea2587"
      },
      "execution_count": null,
      "outputs": [
        {
          "output_type": "execute_result",
          "data": {
            "text/plain": [
              "class                           0\n",
              "alcohol                         0\n",
              "malic acid                      0\n",
              "ash                             0\n",
              "alcalinity of ash               0\n",
              "magnesium                       0\n",
              "total phenols                   0\n",
              "flavanoids                      0\n",
              "nonflavanoid phenols            0\n",
              "proanthocyanins                 0\n",
              "color intensity                 0\n",
              "hue                             0\n",
              "OD280/OD315 of diluted wines    0\n",
              "proline                         0\n",
              "dtype: int64"
            ]
          },
          "metadata": {},
          "execution_count": 5
        }
      ]
    },
    {
      "cell_type": "markdown",
      "source": [
        "This dataset has no missing or null values (neat!!)."
      ],
      "metadata": {
        "id": "I1WxBAOX3J3y"
      }
    },
    {
      "cell_type": "markdown",
      "source": [
        "# Naive Bayes Classifier"
      ],
      "metadata": {
        "id": "CDI1z5xUorbq"
      }
    },
    {
      "cell_type": "code",
      "source": [
        "#declare feature vecor and target variable\n",
        "X = df.drop(['class'],axis = 1)\n",
        "Y = df['class']"
      ],
      "metadata": {
        "id": "v7-sWqAX3PX6"
      },
      "execution_count": null,
      "outputs": []
    },
    {
      "cell_type": "code",
      "source": [
        "#split data into separate training and test sets\n",
        "X_train, X_test, Y_train, Y_test = train_test_split(X, Y, test_size = 0.3, random_state=0)"
      ],
      "metadata": {
        "id": "ZnSraTbK3tJk"
      },
      "execution_count": null,
      "outputs": []
    },
    {
      "cell_type": "code",
      "source": [
        "#check the shape of the training and testing sets\n",
        "X_train.shape, X_test.shape"
      ],
      "metadata": {
        "colab": {
          "base_uri": "https://localhost:8080/"
        },
        "id": "el7QYyEt4I9A",
        "outputId": "4d982213-5aab-423f-e004-edcdc4d2ef8f"
      },
      "execution_count": null,
      "outputs": [
        {
          "output_type": "execute_result",
          "data": {
            "text/plain": [
              "((124, 13), (54, 13))"
            ]
          },
          "metadata": {},
          "execution_count": 8
        }
      ]
    },
    {
      "cell_type": "markdown",
      "source": [
        "## Feature Scaling"
      ],
      "metadata": {
        "id": "Vn6LZMNN6a_A"
      }
    },
    {
      "cell_type": "code",
      "source": [
        "cols = X_train.columns"
      ],
      "metadata": {
        "id": "o2UyWXwK5SmQ"
      },
      "execution_count": null,
      "outputs": []
    },
    {
      "cell_type": "code",
      "source": [
        "scaler = RobustScaler()\n",
        "X_train = scaler.fit_transform(X_train)\n",
        "X_test = scaler.transform(X_test)"
      ],
      "metadata": {
        "id": "UfV4jfOo6h6V"
      },
      "execution_count": null,
      "outputs": []
    },
    {
      "cell_type": "code",
      "source": [
        "X_train = pd.DataFrame(X_train, columns=[cols])"
      ],
      "metadata": {
        "id": "530O5O6v61Gl"
      },
      "execution_count": null,
      "outputs": []
    },
    {
      "cell_type": "code",
      "source": [
        "X_test = pd.DataFrame(X_test, columns=[cols])"
      ],
      "metadata": {
        "id": "KAnThpCJ68WL"
      },
      "execution_count": null,
      "outputs": []
    },
    {
      "cell_type": "code",
      "source": [
        "X_train.head()"
      ],
      "metadata": {
        "colab": {
          "base_uri": "https://localhost:8080/",
          "height": 305
        },
        "id": "5s8evvDo7CRM",
        "outputId": "7485ff1b-0271-4c23-9ae1-c6c167ceec3c"
      },
      "execution_count": null,
      "outputs": [
        {
          "output_type": "execute_result",
          "data": {
            "text/plain": [
              "    alcohol malic acid       ash alcalinity of ash magnesium total phenols  \\\n",
              "0  0.524462  -0.015244  0.000000         -0.616216  0.173913      0.422680   \n",
              "1 -0.641879  -0.362805 -1.235294         -0.097297 -0.347826      0.164948   \n",
              "2  0.180039   1.460366 -0.294118          0.118919  1.275362     -0.628866   \n",
              "3  0.093933   1.027439 -0.617647          0.335135  0.231884     -0.721649   \n",
              "4  0.641879  -0.228659  0.911765          1.200000 -0.695652      0.773196   \n",
              "\n",
              "  flavanoids nonflavanoid phenols proanthocyanins color intensity       hue  \\\n",
              "0   0.480826            -0.388889        0.191489       -0.225564  0.441176   \n",
              "1  -0.014749             0.277778        0.744681       -0.556391 -0.294118   \n",
              "2  -0.811209             0.500000       -0.290780        1.699248 -1.088235   \n",
              "3  -0.893805             0.500000       -0.361702       -0.165414 -1.058824   \n",
              "4   0.469027            -0.722222        0.446809       -0.351880  1.176471   \n",
              "\n",
              "  OD280/OD315 of diluted wines   proline  \n",
              "0                     0.964427  0.771654  \n",
              "1                     0.189723 -0.746457  \n",
              "2                    -0.964427  0.351706  \n",
              "3                    -0.869565  0.341207  \n",
              "4                     0.300395 -0.540682  "
            ],
            "text/html": [
              "\n",
              "  <div id=\"df-2dc0d047-eabc-4dd8-b22c-7769969a7942\">\n",
              "    <div class=\"colab-df-container\">\n",
              "      <div>\n",
              "<style scoped>\n",
              "    .dataframe tbody tr th:only-of-type {\n",
              "        vertical-align: middle;\n",
              "    }\n",
              "\n",
              "    .dataframe tbody tr th {\n",
              "        vertical-align: top;\n",
              "    }\n",
              "\n",
              "    .dataframe thead tr th {\n",
              "        text-align: left;\n",
              "    }\n",
              "</style>\n",
              "<table border=\"1\" class=\"dataframe\">\n",
              "  <thead>\n",
              "    <tr>\n",
              "      <th></th>\n",
              "      <th>alcohol</th>\n",
              "      <th>malic acid</th>\n",
              "      <th>ash</th>\n",
              "      <th>alcalinity of ash</th>\n",
              "      <th>magnesium</th>\n",
              "      <th>total phenols</th>\n",
              "      <th>flavanoids</th>\n",
              "      <th>nonflavanoid phenols</th>\n",
              "      <th>proanthocyanins</th>\n",
              "      <th>color intensity</th>\n",
              "      <th>hue</th>\n",
              "      <th>OD280/OD315 of diluted wines</th>\n",
              "      <th>proline</th>\n",
              "    </tr>\n",
              "  </thead>\n",
              "  <tbody>\n",
              "    <tr>\n",
              "      <th>0</th>\n",
              "      <td>0.524462</td>\n",
              "      <td>-0.015244</td>\n",
              "      <td>0.000000</td>\n",
              "      <td>-0.616216</td>\n",
              "      <td>0.173913</td>\n",
              "      <td>0.422680</td>\n",
              "      <td>0.480826</td>\n",
              "      <td>-0.388889</td>\n",
              "      <td>0.191489</td>\n",
              "      <td>-0.225564</td>\n",
              "      <td>0.441176</td>\n",
              "      <td>0.964427</td>\n",
              "      <td>0.771654</td>\n",
              "    </tr>\n",
              "    <tr>\n",
              "      <th>1</th>\n",
              "      <td>-0.641879</td>\n",
              "      <td>-0.362805</td>\n",
              "      <td>-1.235294</td>\n",
              "      <td>-0.097297</td>\n",
              "      <td>-0.347826</td>\n",
              "      <td>0.164948</td>\n",
              "      <td>-0.014749</td>\n",
              "      <td>0.277778</td>\n",
              "      <td>0.744681</td>\n",
              "      <td>-0.556391</td>\n",
              "      <td>-0.294118</td>\n",
              "      <td>0.189723</td>\n",
              "      <td>-0.746457</td>\n",
              "    </tr>\n",
              "    <tr>\n",
              "      <th>2</th>\n",
              "      <td>0.180039</td>\n",
              "      <td>1.460366</td>\n",
              "      <td>-0.294118</td>\n",
              "      <td>0.118919</td>\n",
              "      <td>1.275362</td>\n",
              "      <td>-0.628866</td>\n",
              "      <td>-0.811209</td>\n",
              "      <td>0.500000</td>\n",
              "      <td>-0.290780</td>\n",
              "      <td>1.699248</td>\n",
              "      <td>-1.088235</td>\n",
              "      <td>-0.964427</td>\n",
              "      <td>0.351706</td>\n",
              "    </tr>\n",
              "    <tr>\n",
              "      <th>3</th>\n",
              "      <td>0.093933</td>\n",
              "      <td>1.027439</td>\n",
              "      <td>-0.617647</td>\n",
              "      <td>0.335135</td>\n",
              "      <td>0.231884</td>\n",
              "      <td>-0.721649</td>\n",
              "      <td>-0.893805</td>\n",
              "      <td>0.500000</td>\n",
              "      <td>-0.361702</td>\n",
              "      <td>-0.165414</td>\n",
              "      <td>-1.058824</td>\n",
              "      <td>-0.869565</td>\n",
              "      <td>0.341207</td>\n",
              "    </tr>\n",
              "    <tr>\n",
              "      <th>4</th>\n",
              "      <td>0.641879</td>\n",
              "      <td>-0.228659</td>\n",
              "      <td>0.911765</td>\n",
              "      <td>1.200000</td>\n",
              "      <td>-0.695652</td>\n",
              "      <td>0.773196</td>\n",
              "      <td>0.469027</td>\n",
              "      <td>-0.722222</td>\n",
              "      <td>0.446809</td>\n",
              "      <td>-0.351880</td>\n",
              "      <td>1.176471</td>\n",
              "      <td>0.300395</td>\n",
              "      <td>-0.540682</td>\n",
              "    </tr>\n",
              "  </tbody>\n",
              "</table>\n",
              "</div>\n",
              "      <button class=\"colab-df-convert\" onclick=\"convertToInteractive('df-2dc0d047-eabc-4dd8-b22c-7769969a7942')\"\n",
              "              title=\"Convert this dataframe to an interactive table.\"\n",
              "              style=\"display:none;\">\n",
              "        \n",
              "  <svg xmlns=\"http://www.w3.org/2000/svg\" height=\"24px\"viewBox=\"0 0 24 24\"\n",
              "       width=\"24px\">\n",
              "    <path d=\"M0 0h24v24H0V0z\" fill=\"none\"/>\n",
              "    <path d=\"M18.56 5.44l.94 2.06.94-2.06 2.06-.94-2.06-.94-.94-2.06-.94 2.06-2.06.94zm-11 1L8.5 8.5l.94-2.06 2.06-.94-2.06-.94L8.5 2.5l-.94 2.06-2.06.94zm10 10l.94 2.06.94-2.06 2.06-.94-2.06-.94-.94-2.06-.94 2.06-2.06.94z\"/><path d=\"M17.41 7.96l-1.37-1.37c-.4-.4-.92-.59-1.43-.59-.52 0-1.04.2-1.43.59L10.3 9.45l-7.72 7.72c-.78.78-.78 2.05 0 2.83L4 21.41c.39.39.9.59 1.41.59.51 0 1.02-.2 1.41-.59l7.78-7.78 2.81-2.81c.8-.78.8-2.07 0-2.86zM5.41 20L4 18.59l7.72-7.72 1.47 1.35L5.41 20z\"/>\n",
              "  </svg>\n",
              "      </button>\n",
              "      \n",
              "  <style>\n",
              "    .colab-df-container {\n",
              "      display:flex;\n",
              "      flex-wrap:wrap;\n",
              "      gap: 12px;\n",
              "    }\n",
              "\n",
              "    .colab-df-convert {\n",
              "      background-color: #E8F0FE;\n",
              "      border: none;\n",
              "      border-radius: 50%;\n",
              "      cursor: pointer;\n",
              "      display: none;\n",
              "      fill: #1967D2;\n",
              "      height: 32px;\n",
              "      padding: 0 0 0 0;\n",
              "      width: 32px;\n",
              "    }\n",
              "\n",
              "    .colab-df-convert:hover {\n",
              "      background-color: #E2EBFA;\n",
              "      box-shadow: 0px 1px 2px rgba(60, 64, 67, 0.3), 0px 1px 3px 1px rgba(60, 64, 67, 0.15);\n",
              "      fill: #174EA6;\n",
              "    }\n",
              "\n",
              "    [theme=dark] .colab-df-convert {\n",
              "      background-color: #3B4455;\n",
              "      fill: #D2E3FC;\n",
              "    }\n",
              "\n",
              "    [theme=dark] .colab-df-convert:hover {\n",
              "      background-color: #434B5C;\n",
              "      box-shadow: 0px 1px 3px 1px rgba(0, 0, 0, 0.15);\n",
              "      filter: drop-shadow(0px 1px 2px rgba(0, 0, 0, 0.3));\n",
              "      fill: #FFFFFF;\n",
              "    }\n",
              "  </style>\n",
              "\n",
              "      <script>\n",
              "        const buttonEl =\n",
              "          document.querySelector('#df-2dc0d047-eabc-4dd8-b22c-7769969a7942 button.colab-df-convert');\n",
              "        buttonEl.style.display =\n",
              "          google.colab.kernel.accessAllowed ? 'block' : 'none';\n",
              "\n",
              "        async function convertToInteractive(key) {\n",
              "          const element = document.querySelector('#df-2dc0d047-eabc-4dd8-b22c-7769969a7942');\n",
              "          const dataTable =\n",
              "            await google.colab.kernel.invokeFunction('convertToInteractive',\n",
              "                                                     [key], {});\n",
              "          if (!dataTable) return;\n",
              "\n",
              "          const docLinkHtml = 'Like what you see? Visit the ' +\n",
              "            '<a target=\"_blank\" href=https://colab.research.google.com/notebooks/data_table.ipynb>data table notebook</a>'\n",
              "            + ' to learn more about interactive tables.';\n",
              "          element.innerHTML = '';\n",
              "          dataTable['output_type'] = 'display_data';\n",
              "          await google.colab.output.renderOutput(dataTable, element);\n",
              "          const docLink = document.createElement('div');\n",
              "          docLink.innerHTML = docLinkHtml;\n",
              "          element.appendChild(docLink);\n",
              "        }\n",
              "      </script>\n",
              "    </div>\n",
              "  </div>\n",
              "  "
            ]
          },
          "metadata": {},
          "execution_count": 13
        }
      ]
    },
    {
      "cell_type": "markdown",
      "source": [
        "## Model Training"
      ],
      "metadata": {
        "id": "o1YuJdTI7N3-"
      }
    },
    {
      "cell_type": "code",
      "source": [
        "gnb = GaussianNB()\n",
        "gnb.fit(X_train,Y_train)"
      ],
      "metadata": {
        "colab": {
          "base_uri": "https://localhost:8080/",
          "height": 75
        },
        "id": "6lzRRFoK7PXA",
        "outputId": "0e515498-ee93-40f4-b92b-e03f75f414f2"
      },
      "execution_count": null,
      "outputs": [
        {
          "output_type": "execute_result",
          "data": {
            "text/plain": [
              "GaussianNB()"
            ],
            "text/html": [
              "<style>#sk-container-id-1 {color: black;background-color: white;}#sk-container-id-1 pre{padding: 0;}#sk-container-id-1 div.sk-toggleable {background-color: white;}#sk-container-id-1 label.sk-toggleable__label {cursor: pointer;display: block;width: 100%;margin-bottom: 0;padding: 0.3em;box-sizing: border-box;text-align: center;}#sk-container-id-1 label.sk-toggleable__label-arrow:before {content: \"▸\";float: left;margin-right: 0.25em;color: #696969;}#sk-container-id-1 label.sk-toggleable__label-arrow:hover:before {color: black;}#sk-container-id-1 div.sk-estimator:hover label.sk-toggleable__label-arrow:before {color: black;}#sk-container-id-1 div.sk-toggleable__content {max-height: 0;max-width: 0;overflow: hidden;text-align: left;background-color: #f0f8ff;}#sk-container-id-1 div.sk-toggleable__content pre {margin: 0.2em;color: black;border-radius: 0.25em;background-color: #f0f8ff;}#sk-container-id-1 input.sk-toggleable__control:checked~div.sk-toggleable__content {max-height: 200px;max-width: 100%;overflow: auto;}#sk-container-id-1 input.sk-toggleable__control:checked~label.sk-toggleable__label-arrow:before {content: \"▾\";}#sk-container-id-1 div.sk-estimator input.sk-toggleable__control:checked~label.sk-toggleable__label {background-color: #d4ebff;}#sk-container-id-1 div.sk-label input.sk-toggleable__control:checked~label.sk-toggleable__label {background-color: #d4ebff;}#sk-container-id-1 input.sk-hidden--visually {border: 0;clip: rect(1px 1px 1px 1px);clip: rect(1px, 1px, 1px, 1px);height: 1px;margin: -1px;overflow: hidden;padding: 0;position: absolute;width: 1px;}#sk-container-id-1 div.sk-estimator {font-family: monospace;background-color: #f0f8ff;border: 1px dotted black;border-radius: 0.25em;box-sizing: border-box;margin-bottom: 0.5em;}#sk-container-id-1 div.sk-estimator:hover {background-color: #d4ebff;}#sk-container-id-1 div.sk-parallel-item::after {content: \"\";width: 100%;border-bottom: 1px solid gray;flex-grow: 1;}#sk-container-id-1 div.sk-label:hover label.sk-toggleable__label {background-color: #d4ebff;}#sk-container-id-1 div.sk-serial::before {content: \"\";position: absolute;border-left: 1px solid gray;box-sizing: border-box;top: 0;bottom: 0;left: 50%;z-index: 0;}#sk-container-id-1 div.sk-serial {display: flex;flex-direction: column;align-items: center;background-color: white;padding-right: 0.2em;padding-left: 0.2em;position: relative;}#sk-container-id-1 div.sk-item {position: relative;z-index: 1;}#sk-container-id-1 div.sk-parallel {display: flex;align-items: stretch;justify-content: center;background-color: white;position: relative;}#sk-container-id-1 div.sk-item::before, #sk-container-id-1 div.sk-parallel-item::before {content: \"\";position: absolute;border-left: 1px solid gray;box-sizing: border-box;top: 0;bottom: 0;left: 50%;z-index: -1;}#sk-container-id-1 div.sk-parallel-item {display: flex;flex-direction: column;z-index: 1;position: relative;background-color: white;}#sk-container-id-1 div.sk-parallel-item:first-child::after {align-self: flex-end;width: 50%;}#sk-container-id-1 div.sk-parallel-item:last-child::after {align-self: flex-start;width: 50%;}#sk-container-id-1 div.sk-parallel-item:only-child::after {width: 0;}#sk-container-id-1 div.sk-dashed-wrapped {border: 1px dashed gray;margin: 0 0.4em 0.5em 0.4em;box-sizing: border-box;padding-bottom: 0.4em;background-color: white;}#sk-container-id-1 div.sk-label label {font-family: monospace;font-weight: bold;display: inline-block;line-height: 1.2em;}#sk-container-id-1 div.sk-label-container {text-align: center;}#sk-container-id-1 div.sk-container {/* jupyter's `normalize.less` sets `[hidden] { display: none; }` but bootstrap.min.css set `[hidden] { display: none !important; }` so we also need the `!important` here to be able to override the default hidden behavior on the sphinx rendered scikit-learn.org. See: https://github.com/scikit-learn/scikit-learn/issues/21755 */display: inline-block !important;position: relative;}#sk-container-id-1 div.sk-text-repr-fallback {display: none;}</style><div id=\"sk-container-id-1\" class=\"sk-top-container\"><div class=\"sk-text-repr-fallback\"><pre>GaussianNB()</pre><b>In a Jupyter environment, please rerun this cell to show the HTML representation or trust the notebook. <br />On GitHub, the HTML representation is unable to render, please try loading this page with nbviewer.org.</b></div><div class=\"sk-container\" hidden><div class=\"sk-item\"><div class=\"sk-estimator sk-toggleable\"><input class=\"sk-toggleable__control sk-hidden--visually\" id=\"sk-estimator-id-1\" type=\"checkbox\" checked><label for=\"sk-estimator-id-1\" class=\"sk-toggleable__label sk-toggleable__label-arrow\">GaussianNB</label><div class=\"sk-toggleable__content\"><pre>GaussianNB()</pre></div></div></div></div></div>"
            ]
          },
          "metadata": {},
          "execution_count": 14
        }
      ]
    },
    {
      "cell_type": "markdown",
      "source": [
        "## Predict the results"
      ],
      "metadata": {
        "id": "74bh08057jCN"
      }
    },
    {
      "cell_type": "code",
      "source": [
        "Y_pred = gnb.predict(X_test)\n",
        "Y_pred"
      ],
      "metadata": {
        "colab": {
          "base_uri": "https://localhost:8080/"
        },
        "id": "ClrPKsVv7iWJ",
        "outputId": "3b53c274-25f7-45dc-94d0-cec1b4e079bd"
      },
      "execution_count": null,
      "outputs": [
        {
          "output_type": "execute_result",
          "data": {
            "text/plain": [
              "array([1, 3, 2, 1, 2, 2, 1, 3, 2, 2, 3, 3, 1, 1, 3, 2, 1, 1, 3, 1, 1, 1,\n",
              "       1, 2, 2, 2, 2, 2, 2, 3, 1, 1, 2, 1, 1, 1, 3, 2, 2, 3, 1, 1, 2, 2,\n",
              "       2, 1, 3, 2, 3, 1, 3, 3, 1, 3])"
            ]
          },
          "metadata": {},
          "execution_count": 15
        }
      ]
    },
    {
      "cell_type": "markdown",
      "source": [
        "## Check accuracy score"
      ],
      "metadata": {
        "id": "3Pkb3ZHd7uY9"
      }
    },
    {
      "cell_type": "code",
      "source": [
        "print('Model accuracy score: {0:0.4f}'. format(accuracy_score(Y_test, Y_pred)))"
      ],
      "metadata": {
        "colab": {
          "base_uri": "https://localhost:8080/"
        },
        "id": "TSHWixCk7w9A",
        "outputId": "2cd29bb6-effd-4212-bf93-90d25ff30d82"
      },
      "execution_count": null,
      "outputs": [
        {
          "output_type": "stream",
          "name": "stdout",
          "text": [
            "Model accuracy score: 0.9444\n"
          ]
        }
      ]
    },
    {
      "cell_type": "code",
      "source": [
        "#compare the train-set and test-set accuracy\n",
        "#metric to check for overfitting\n",
        "\n",
        "Y_pred_train = gnb.predict(X_train)\n",
        "Y_pred_train"
      ],
      "metadata": {
        "colab": {
          "base_uri": "https://localhost:8080/"
        },
        "id": "VJY6UWYO8BJ9",
        "outputId": "bade88f0-9827-4d8b-eb94-78b70c0c4749"
      },
      "execution_count": null,
      "outputs": [
        {
          "output_type": "execute_result",
          "data": {
            "text/plain": [
              "array([1, 2, 3, 3, 2, 3, 3, 1, 3, 3, 2, 2, 3, 2, 1, 2, 2, 2, 1, 1, 2, 2,\n",
              "       3, 3, 2, 2, 2, 3, 3, 1, 3, 2, 2, 2, 2, 2, 1, 1, 2, 1, 3, 1, 3, 1,\n",
              "       1, 2, 1, 2, 2, 1, 3, 2, 1, 2, 2, 2, 3, 1, 3, 3, 1, 1, 2, 3, 1, 1,\n",
              "       2, 2, 1, 1, 1, 3, 2, 1, 2, 3, 1, 2, 3, 3, 1, 1, 3, 1, 3, 2, 1, 1,\n",
              "       2, 1, 3, 2, 3, 1, 3, 3, 3, 1, 2, 2, 2, 2, 3, 3, 2, 2, 2, 2, 3, 3,\n",
              "       1, 1, 3, 2, 2, 2, 1, 1, 1, 2, 2, 2, 1, 3])"
            ]
          },
          "metadata": {},
          "execution_count": 17
        }
      ]
    },
    {
      "cell_type": "code",
      "source": [
        "print('Training-set accuracy score: {0:0.4f}'. format(accuracy_score(Y_train, Y_pred_train)))"
      ],
      "metadata": {
        "colab": {
          "base_uri": "https://localhost:8080/"
        },
        "id": "-Ceq62Rs8c9A",
        "outputId": "cfcffdd9-87e6-4c6d-8924-5739277819a3"
      },
      "execution_count": null,
      "outputs": [
        {
          "output_type": "stream",
          "name": "stdout",
          "text": [
            "Training-set accuracy score: 0.9839\n"
          ]
        }
      ]
    },
    {
      "cell_type": "code",
      "source": [
        "#check for overfitting and underfitting\n",
        "print('Training set score: {:.4f}'.format(gnb.score(X_train, Y_train)))\n",
        "\n",
        "print('Test set score: {:.4f}'.format(gnb.score(X_test, Y_test)))"
      ],
      "metadata": {
        "colab": {
          "base_uri": "https://localhost:8080/"
        },
        "id": "-6y0KBOT8nW3",
        "outputId": "bf554f1c-570e-4c18-d553-44d9c1a2d352"
      },
      "execution_count": null,
      "outputs": [
        {
          "output_type": "stream",
          "name": "stdout",
          "text": [
            "Training set score: 0.9839\n",
            "Test set score: 0.9444\n"
          ]
        }
      ]
    },
    {
      "cell_type": "markdown",
      "source": [
        "## Compare model accuracy with null accuracy."
      ],
      "metadata": {
        "id": "zF6o7oTk3_tj"
      }
    },
    {
      "cell_type": "code",
      "source": [
        "#check class distribution in test set\n",
        "Y_test.value_counts()"
      ],
      "metadata": {
        "colab": {
          "base_uri": "https://localhost:8080/"
        },
        "id": "8YCXJKbF4Fj7",
        "outputId": "8892ab12-638e-4a54-aedf-b024c6195395"
      },
      "execution_count": null,
      "outputs": [
        {
          "output_type": "execute_result",
          "data": {
            "text/plain": [
              "2    22\n",
              "1    19\n",
              "3    13\n",
              "Name: class, dtype: int64"
            ]
          },
          "metadata": {},
          "execution_count": 20
        }
      ]
    },
    {
      "cell_type": "markdown",
      "source": [
        "We can see that the occurrences of the most frequent class is 22, so we can calculate null accuracy by dividing 22 by the total number of occurrences."
      ],
      "metadata": {
        "id": "-ccFhqR14hua"
      }
    },
    {
      "cell_type": "code",
      "source": [
        "#check null accuracy score\n",
        "\n",
        "null_accuracy = (22/(22+19+13))\n",
        "print('Null accuracy score: {0:0.4f}'.format(null_accuracy))"
      ],
      "metadata": {
        "colab": {
          "base_uri": "https://localhost:8080/"
        },
        "id": "hIo3hFjR4rE6",
        "outputId": "3ca422f7-79a2-4f3b-c20f-5fe0ff94b4ee"
      },
      "execution_count": null,
      "outputs": [
        {
          "output_type": "stream",
          "name": "stdout",
          "text": [
            "Null accuracy score: 0.4074\n"
          ]
        }
      ]
    },
    {
      "cell_type": "markdown",
      "source": [
        "The null accuracy is very low (about 41%), so we can say that the Gaussian Naive Bayes Classification model is doing a very good job at predicting the class labels."
      ],
      "metadata": {
        "id": "6d4snGbV5IjR"
      }
    },
    {
      "cell_type": "markdown",
      "source": [
        "## Confusion Matrix\n",
        "A confusion matrix is a tool for summarizing the performance of a classification algorithm. A confusion matrix will give us a clear picture of classification model performance and the types of errors produced by the model. It gives us a summary of correct and incorrect predictions broken down by each category. The summary is represented in a tabular form. \n",
        "\n",
        "Four types of outcomes are possible while evaluating a classification model performance. These four outcomes are described below:\n",
        "\n",
        "**True Positives:** True positives occur when we predict an observvation belongs to a certain class and the observation actually belongs to that class.\n",
        "\n",
        "**True Negatives:** when we predict an observation does not belong to a certain class and the observation actually does not belong to that class.\n",
        "\n",
        "**False Positives:** when we predict an observation belongs to a certain class but the obserbation actually does not belong to that class. This type of error is called a Type 1 error.\n",
        "\n",
        "**False Negatives:** when we predict an observation does not belong to a certain class, but the observation actually belongs to that class. This is a very serious error and it is called Type II error."
      ],
      "metadata": {
        "id": "ex2WqTOh5bLg"
      }
    },
    {
      "cell_type": "code",
      "source": [
        "#print the confusion matrix and slice it into four pieces\n",
        "\n",
        "from sklearn.metrics import confusion_matrix\n",
        "\n",
        "cm = confusion_matrix(Y_test,Y_pred)\n",
        "\n",
        "print('Confusion matrix\\n\\n',cm)\n",
        "print('\\nTrue Positives = ', cm[0,0])\n",
        "print('\\nTrue Negatives(TN) = ', cm[1,1])\n",
        "print('\\nFalse Positives(FP) = ', cm[0,1])\n",
        "print('\\nFalse Negatives(FN) = ', cm[1,0])"
      ],
      "metadata": {
        "colab": {
          "base_uri": "https://localhost:8080/"
        },
        "id": "hZefPj-s7GFT",
        "outputId": "681a1cf9-3a09-43b5-dd02-50185f609faf"
      },
      "execution_count": null,
      "outputs": [
        {
          "output_type": "stream",
          "name": "stdout",
          "text": [
            "Confusion matrix\n",
            "\n",
            " [[19  0  0]\n",
            " [ 2 19  1]\n",
            " [ 0  0 13]]\n",
            "\n",
            "True Positives =  19\n",
            "\n",
            "True Negatives(TN) =  19\n",
            "\n",
            "False Positives(FP) =  0\n",
            "\n",
            "False Negatives(FN) =  2\n"
          ]
        }
      ]
    },
    {
      "cell_type": "markdown",
      "source": [
        "## Classification Matrices"
      ],
      "metadata": {
        "id": "mJ6N8kIf8PSV"
      }
    },
    {
      "cell_type": "code",
      "source": [
        "from sklearn.metrics import classification_report\n",
        "print(classification_report(Y_test,Y_pred))"
      ],
      "metadata": {
        "colab": {
          "base_uri": "https://localhost:8080/"
        },
        "id": "YsQticwE8ULv",
        "outputId": "108b6c3b-68eb-4f42-864d-0d3c1d00f81b"
      },
      "execution_count": null,
      "outputs": [
        {
          "output_type": "stream",
          "name": "stdout",
          "text": [
            "              precision    recall  f1-score   support\n",
            "\n",
            "           1       0.90      1.00      0.95        19\n",
            "           2       1.00      0.86      0.93        22\n",
            "           3       0.93      1.00      0.96        13\n",
            "\n",
            "    accuracy                           0.94        54\n",
            "   macro avg       0.94      0.95      0.95        54\n",
            "weighted avg       0.95      0.94      0.94        54\n",
            "\n"
          ]
        }
      ]
    },
    {
      "cell_type": "code",
      "source": [
        "# classification accuracy\n",
        "TP = cm[0,0]\n",
        "TN = cm[1,1]\n",
        "FP = cm[0,1]\n",
        "FN = cm[1,0]"
      ],
      "metadata": {
        "id": "9G0qL7GH8jT5"
      },
      "execution_count": null,
      "outputs": []
    },
    {
      "cell_type": "code",
      "source": [
        "# print classification accuracy\n",
        "\n",
        "classification_accuracy = (TP + TN) / float(TP + TN + FP + FN)\n",
        "\n",
        "print('Classification accuracy : {0:0.4f}'.format(classification_accuracy))"
      ],
      "metadata": {
        "colab": {
          "base_uri": "https://localhost:8080/"
        },
        "id": "nQ_xZ6078pDa",
        "outputId": "e110d81b-9b9b-43cb-e905-41b1d44aba94"
      },
      "execution_count": null,
      "outputs": [
        {
          "output_type": "stream",
          "name": "stdout",
          "text": [
            "Classification accuracy : 0.9500\n"
          ]
        }
      ]
    },
    {
      "cell_type": "code",
      "source": [
        "# print classification error\n",
        "\n",
        "classification_error = (FP + FN) / float(TP + TN + FP + FN)\n",
        "\n",
        "print('Classification error : {0:0.4f}'.format(classification_error))"
      ],
      "metadata": {
        "colab": {
          "base_uri": "https://localhost:8080/"
        },
        "id": "0tLVUwI18ui4",
        "outputId": "9b5633a6-429c-41ed-a77a-c5b6e994ed5e"
      },
      "execution_count": null,
      "outputs": [
        {
          "output_type": "stream",
          "name": "stdout",
          "text": [
            "Classification error : 0.0500\n"
          ]
        }
      ]
    },
    {
      "cell_type": "markdown",
      "source": [
        "### Precision\n",
        "**Precision** can be defined as the percentage of correctly predicted positive outcomes out of all the predicted positive outcomes. It can be given as the ratio of true positives to the sum of true and false positives.\n",
        "\n",
        "So, **precision** identifies the proportion of correctly predicted positive outcomes. It is more concerned with the positive class than the negative class."
      ],
      "metadata": {
        "id": "npwZVFNq80rT"
      }
    },
    {
      "cell_type": "code",
      "source": [
        "# print precision score\n",
        "\n",
        "precision = TP / float(TP + FP)\n",
        "\n",
        "\n",
        "print('Precision : {0:0.4f}'.format(precision))"
      ],
      "metadata": {
        "colab": {
          "base_uri": "https://localhost:8080/"
        },
        "id": "e601mce68yxH",
        "outputId": "6f9dd6ee-cd90-4c1d-d2f4-2c5aa859dba1"
      },
      "execution_count": null,
      "outputs": [
        {
          "output_type": "stream",
          "name": "stdout",
          "text": [
            "Precision : 1.0000\n"
          ]
        }
      ]
    },
    {
      "cell_type": "markdown",
      "source": [
        "### Recall\n",
        "Recall can be defined as the percentage of correctly predicted positive outcomes of all the actual positive outcomes. It can be given as the ratio of true positives to the sum of true positives and false negatives. Recall is also called \"sensitivity\".\n",
        "\n",
        "Recall identifies the proportion of correctly predicted actual positives."
      ],
      "metadata": {
        "id": "0Dm2d-fT9UBo"
      }
    },
    {
      "cell_type": "code",
      "source": [
        "recall = TP / float(TP + FN)\n",
        "\n",
        "print('Recall or Sensitivity : {0:0.4f}'.format(recall))"
      ],
      "metadata": {
        "colab": {
          "base_uri": "https://localhost:8080/"
        },
        "id": "dPK8bL3_9kYE",
        "outputId": "ae4d73ff-a1f9-403b-bdb6-0ee363953ad9"
      },
      "execution_count": null,
      "outputs": [
        {
          "output_type": "stream",
          "name": "stdout",
          "text": [
            "Recall or Sensitivity : 0.9048\n"
          ]
        }
      ]
    },
    {
      "cell_type": "markdown",
      "source": [
        "### False Positive Rate"
      ],
      "metadata": {
        "id": "A1m1ozyo9oVI"
      }
    },
    {
      "cell_type": "code",
      "source": [
        "false_positive_rate = FP / float(FP + TN)\n",
        "\n",
        "\n",
        "print('False Positive Rate : {0:0.4f}'.format(false_positive_rate))"
      ],
      "metadata": {
        "colab": {
          "base_uri": "https://localhost:8080/"
        },
        "id": "Z3yNHjpP9uiq",
        "outputId": "ce77ccfe-a879-4112-930e-8d76b63a425d"
      },
      "execution_count": null,
      "outputs": [
        {
          "output_type": "stream",
          "name": "stdout",
          "text": [
            "False Positive Rate : 0.0000\n"
          ]
        }
      ]
    },
    {
      "cell_type": "markdown",
      "source": [
        "### Specificity"
      ],
      "metadata": {
        "id": "JugzKuS09y2D"
      }
    },
    {
      "cell_type": "code",
      "source": [
        "specificity = TN / (TN + FP)\n",
        "\n",
        "print('Specificity : {0:0.4f}'.format(specificity))"
      ],
      "metadata": {
        "colab": {
          "base_uri": "https://localhost:8080/"
        },
        "id": "L4Z4VsSp90iy",
        "outputId": "c49695cc-952b-4cfb-b6dd-46e0b916b311"
      },
      "execution_count": null,
      "outputs": [
        {
          "output_type": "stream",
          "name": "stdout",
          "text": [
            "Specificity : 1.0000\n"
          ]
        }
      ]
    },
    {
      "cell_type": "markdown",
      "source": [
        "## Calculate Class Probabilities"
      ],
      "metadata": {
        "id": "5tF8Pf9c94k1"
      }
    },
    {
      "cell_type": "code",
      "source": [
        "# print the first 10 predicted probabilities of two classes- 0 and 1\n",
        "\n",
        "y_pred_prob = gnb.predict_proba(X_test)[0:10]\n",
        "\n",
        "y_pred_prob"
      ],
      "metadata": {
        "colab": {
          "base_uri": "https://localhost:8080/"
        },
        "id": "MBomArWx9_yd",
        "outputId": "058c14ad-0fb3-4d93-d40c-319fd92e29df"
      },
      "execution_count": null,
      "outputs": [
        {
          "output_type": "execute_result",
          "data": {
            "text/plain": [
              "array([[9.99999998e-01, 2.06983161e-09, 1.58501611e-29],\n",
              "       [3.10667583e-22, 4.30594790e-26, 1.00000000e+00],\n",
              "       [1.34257309e-02, 9.86574269e-01, 1.85958179e-32],\n",
              "       [1.00000000e+00, 1.82585902e-10, 1.58185022e-30],\n",
              "       [3.89709727e-08, 9.99999961e-01, 1.52996202e-17],\n",
              "       [6.78282956e-06, 9.99993217e-01, 5.98326782e-64],\n",
              "       [1.00000000e+00, 2.37250176e-10, 3.72199273e-34],\n",
              "       [6.36947192e-23, 5.63482657e-13, 1.00000000e+00],\n",
              "       [4.58050469e-09, 9.99999995e-01, 3.90681968e-16],\n",
              "       [1.87459391e-14, 9.99999836e-01, 1.63818712e-07]])"
            ]
          },
          "metadata": {},
          "execution_count": 31
        }
      ]
    },
    {
      "cell_type": "code",
      "source": [
        "# store the probabilities in dataframe\n",
        "\n",
        "y_pred_prob_df = pd.DataFrame(data=y_pred_prob, columns=['Prob of - 1', 'Prob of - 2', 'Prob of - 3'])\n",
        "\n",
        "y_pred_prob_df"
      ],
      "metadata": {
        "colab": {
          "base_uri": "https://localhost:8080/",
          "height": 363
        },
        "id": "u5cXVUU8-ERU",
        "outputId": "db3d01f0-3a43-44c4-978e-404f3e8d62f9"
      },
      "execution_count": null,
      "outputs": [
        {
          "output_type": "execute_result",
          "data": {
            "text/plain": [
              "    Prob of - 1   Prob of - 2   Prob of - 3\n",
              "0  1.000000e+00  2.069832e-09  1.585016e-29\n",
              "1  3.106676e-22  4.305948e-26  1.000000e+00\n",
              "2  1.342573e-02  9.865743e-01  1.859582e-32\n",
              "3  1.000000e+00  1.825859e-10  1.581850e-30\n",
              "4  3.897097e-08  1.000000e+00  1.529962e-17\n",
              "5  6.782830e-06  9.999932e-01  5.983268e-64\n",
              "6  1.000000e+00  2.372502e-10  3.721993e-34\n",
              "7  6.369472e-23  5.634827e-13  1.000000e+00\n",
              "8  4.580505e-09  1.000000e+00  3.906820e-16\n",
              "9  1.874594e-14  9.999998e-01  1.638187e-07"
            ],
            "text/html": [
              "\n",
              "  <div id=\"df-1ba44eae-19dd-4ea3-b9b9-488f3b6d4278\">\n",
              "    <div class=\"colab-df-container\">\n",
              "      <div>\n",
              "<style scoped>\n",
              "    .dataframe tbody tr th:only-of-type {\n",
              "        vertical-align: middle;\n",
              "    }\n",
              "\n",
              "    .dataframe tbody tr th {\n",
              "        vertical-align: top;\n",
              "    }\n",
              "\n",
              "    .dataframe thead th {\n",
              "        text-align: right;\n",
              "    }\n",
              "</style>\n",
              "<table border=\"1\" class=\"dataframe\">\n",
              "  <thead>\n",
              "    <tr style=\"text-align: right;\">\n",
              "      <th></th>\n",
              "      <th>Prob of - 1</th>\n",
              "      <th>Prob of - 2</th>\n",
              "      <th>Prob of - 3</th>\n",
              "    </tr>\n",
              "  </thead>\n",
              "  <tbody>\n",
              "    <tr>\n",
              "      <th>0</th>\n",
              "      <td>1.000000e+00</td>\n",
              "      <td>2.069832e-09</td>\n",
              "      <td>1.585016e-29</td>\n",
              "    </tr>\n",
              "    <tr>\n",
              "      <th>1</th>\n",
              "      <td>3.106676e-22</td>\n",
              "      <td>4.305948e-26</td>\n",
              "      <td>1.000000e+00</td>\n",
              "    </tr>\n",
              "    <tr>\n",
              "      <th>2</th>\n",
              "      <td>1.342573e-02</td>\n",
              "      <td>9.865743e-01</td>\n",
              "      <td>1.859582e-32</td>\n",
              "    </tr>\n",
              "    <tr>\n",
              "      <th>3</th>\n",
              "      <td>1.000000e+00</td>\n",
              "      <td>1.825859e-10</td>\n",
              "      <td>1.581850e-30</td>\n",
              "    </tr>\n",
              "    <tr>\n",
              "      <th>4</th>\n",
              "      <td>3.897097e-08</td>\n",
              "      <td>1.000000e+00</td>\n",
              "      <td>1.529962e-17</td>\n",
              "    </tr>\n",
              "    <tr>\n",
              "      <th>5</th>\n",
              "      <td>6.782830e-06</td>\n",
              "      <td>9.999932e-01</td>\n",
              "      <td>5.983268e-64</td>\n",
              "    </tr>\n",
              "    <tr>\n",
              "      <th>6</th>\n",
              "      <td>1.000000e+00</td>\n",
              "      <td>2.372502e-10</td>\n",
              "      <td>3.721993e-34</td>\n",
              "    </tr>\n",
              "    <tr>\n",
              "      <th>7</th>\n",
              "      <td>6.369472e-23</td>\n",
              "      <td>5.634827e-13</td>\n",
              "      <td>1.000000e+00</td>\n",
              "    </tr>\n",
              "    <tr>\n",
              "      <th>8</th>\n",
              "      <td>4.580505e-09</td>\n",
              "      <td>1.000000e+00</td>\n",
              "      <td>3.906820e-16</td>\n",
              "    </tr>\n",
              "    <tr>\n",
              "      <th>9</th>\n",
              "      <td>1.874594e-14</td>\n",
              "      <td>9.999998e-01</td>\n",
              "      <td>1.638187e-07</td>\n",
              "    </tr>\n",
              "  </tbody>\n",
              "</table>\n",
              "</div>\n",
              "      <button class=\"colab-df-convert\" onclick=\"convertToInteractive('df-1ba44eae-19dd-4ea3-b9b9-488f3b6d4278')\"\n",
              "              title=\"Convert this dataframe to an interactive table.\"\n",
              "              style=\"display:none;\">\n",
              "        \n",
              "  <svg xmlns=\"http://www.w3.org/2000/svg\" height=\"24px\"viewBox=\"0 0 24 24\"\n",
              "       width=\"24px\">\n",
              "    <path d=\"M0 0h24v24H0V0z\" fill=\"none\"/>\n",
              "    <path d=\"M18.56 5.44l.94 2.06.94-2.06 2.06-.94-2.06-.94-.94-2.06-.94 2.06-2.06.94zm-11 1L8.5 8.5l.94-2.06 2.06-.94-2.06-.94L8.5 2.5l-.94 2.06-2.06.94zm10 10l.94 2.06.94-2.06 2.06-.94-2.06-.94-.94-2.06-.94 2.06-2.06.94z\"/><path d=\"M17.41 7.96l-1.37-1.37c-.4-.4-.92-.59-1.43-.59-.52 0-1.04.2-1.43.59L10.3 9.45l-7.72 7.72c-.78.78-.78 2.05 0 2.83L4 21.41c.39.39.9.59 1.41.59.51 0 1.02-.2 1.41-.59l7.78-7.78 2.81-2.81c.8-.78.8-2.07 0-2.86zM5.41 20L4 18.59l7.72-7.72 1.47 1.35L5.41 20z\"/>\n",
              "  </svg>\n",
              "      </button>\n",
              "      \n",
              "  <style>\n",
              "    .colab-df-container {\n",
              "      display:flex;\n",
              "      flex-wrap:wrap;\n",
              "      gap: 12px;\n",
              "    }\n",
              "\n",
              "    .colab-df-convert {\n",
              "      background-color: #E8F0FE;\n",
              "      border: none;\n",
              "      border-radius: 50%;\n",
              "      cursor: pointer;\n",
              "      display: none;\n",
              "      fill: #1967D2;\n",
              "      height: 32px;\n",
              "      padding: 0 0 0 0;\n",
              "      width: 32px;\n",
              "    }\n",
              "\n",
              "    .colab-df-convert:hover {\n",
              "      background-color: #E2EBFA;\n",
              "      box-shadow: 0px 1px 2px rgba(60, 64, 67, 0.3), 0px 1px 3px 1px rgba(60, 64, 67, 0.15);\n",
              "      fill: #174EA6;\n",
              "    }\n",
              "\n",
              "    [theme=dark] .colab-df-convert {\n",
              "      background-color: #3B4455;\n",
              "      fill: #D2E3FC;\n",
              "    }\n",
              "\n",
              "    [theme=dark] .colab-df-convert:hover {\n",
              "      background-color: #434B5C;\n",
              "      box-shadow: 0px 1px 3px 1px rgba(0, 0, 0, 0.15);\n",
              "      filter: drop-shadow(0px 1px 2px rgba(0, 0, 0, 0.3));\n",
              "      fill: #FFFFFF;\n",
              "    }\n",
              "  </style>\n",
              "\n",
              "      <script>\n",
              "        const buttonEl =\n",
              "          document.querySelector('#df-1ba44eae-19dd-4ea3-b9b9-488f3b6d4278 button.colab-df-convert');\n",
              "        buttonEl.style.display =\n",
              "          google.colab.kernel.accessAllowed ? 'block' : 'none';\n",
              "\n",
              "        async function convertToInteractive(key) {\n",
              "          const element = document.querySelector('#df-1ba44eae-19dd-4ea3-b9b9-488f3b6d4278');\n",
              "          const dataTable =\n",
              "            await google.colab.kernel.invokeFunction('convertToInteractive',\n",
              "                                                     [key], {});\n",
              "          if (!dataTable) return;\n",
              "\n",
              "          const docLinkHtml = 'Like what you see? Visit the ' +\n",
              "            '<a target=\"_blank\" href=https://colab.research.google.com/notebooks/data_table.ipynb>data table notebook</a>'\n",
              "            + ' to learn more about interactive tables.';\n",
              "          element.innerHTML = '';\n",
              "          dataTable['output_type'] = 'display_data';\n",
              "          await google.colab.output.renderOutput(dataTable, element);\n",
              "          const docLink = document.createElement('div');\n",
              "          docLink.innerHTML = docLinkHtml;\n",
              "          element.appendChild(docLink);\n",
              "        }\n",
              "      </script>\n",
              "    </div>\n",
              "  </div>\n",
              "  "
            ]
          },
          "metadata": {},
          "execution_count": 32
        }
      ]
    },
    {
      "cell_type": "code",
      "source": [
        "# print the first 10 predicted probabilities for class 1 - Probability of >50K\n",
        "\n",
        "gnb.predict_proba(X_test)[0:10, 1]"
      ],
      "metadata": {
        "colab": {
          "base_uri": "https://localhost:8080/"
        },
        "id": "XUhFRTaL-RNf",
        "outputId": "7de8f054-9fc2-4a3a-f1a7-b83827aaa6d5"
      },
      "execution_count": null,
      "outputs": [
        {
          "output_type": "execute_result",
          "data": {
            "text/plain": [
              "array([2.06983161e-09, 4.30594790e-26, 9.86574269e-01, 1.82585902e-10,\n",
              "       9.99999961e-01, 9.99993217e-01, 2.37250176e-10, 5.63482657e-13,\n",
              "       9.99999995e-01, 9.99999836e-01])"
            ]
          },
          "metadata": {},
          "execution_count": 33
        }
      ]
    },
    {
      "cell_type": "code",
      "source": [
        "# store the predicted probabilities for class 1 - Probability of 1\n",
        "\n",
        "y_pred1 = gnb.predict_proba(X_test)[:, 1]\n",
        "\n",
        "y_pred1"
      ],
      "metadata": {
        "id": "4BRURMBC-V0Z",
        "colab": {
          "base_uri": "https://localhost:8080/"
        },
        "outputId": "472e5b7d-d349-4d3b-f6e3-296c22895293"
      },
      "execution_count": null,
      "outputs": [
        {
          "output_type": "execute_result",
          "data": {
            "text/plain": [
              "array([2.06983161e-09, 4.30594790e-26, 9.86574269e-01, 1.82585902e-10,\n",
              "       9.99999961e-01, 9.99993217e-01, 2.37250176e-10, 5.63482657e-13,\n",
              "       9.99999995e-01, 9.99999836e-01, 1.97313745e-05, 3.80649583e-09,\n",
              "       3.14893603e-18, 2.88179813e-01, 1.80300774e-17, 1.00000000e+00,\n",
              "       4.30309551e-07, 5.56295289e-27, 2.43108873e-01, 2.26228048e-11,\n",
              "       1.50162478e-01, 5.21162419e-04, 5.37606682e-02, 9.99998137e-01,\n",
              "       9.99991437e-01, 9.99999916e-01, 9.99998320e-01, 1.00000000e+00,\n",
              "       1.00000000e+00, 9.66874961e-23, 2.11187923e-08, 8.09303574e-12,\n",
              "       9.99992089e-01, 5.18425386e-08, 3.44989960e-10, 1.79519391e-05,\n",
              "       3.41203022e-08, 9.98214058e-01, 9.99999829e-01, 2.36237729e-14,\n",
              "       4.05185666e-03, 3.48552179e-11, 9.99999101e-01, 9.99999999e-01,\n",
              "       1.00000000e+00, 9.67379237e-07, 5.50220367e-12, 9.98509643e-01,\n",
              "       5.58551676e-14, 2.71945003e-13, 1.29281588e-06, 8.84332906e-09,\n",
              "       8.93713287e-09, 3.00591787e-34])"
            ]
          },
          "metadata": {},
          "execution_count": 34
        }
      ]
    },
    {
      "cell_type": "code",
      "source": [
        "# plot histogram of predicted probabilities\n",
        "\n",
        "\n",
        "# adjust the font size \n",
        "plt.rcParams['font.size'] = 12\n",
        "\n",
        "\n",
        "# plot histogram with 10 bins\n",
        "plt.hist(y_pred1, bins = 10)\n",
        "\n",
        "\n",
        "# set the title of predicted probabilities\n",
        "plt.title('Histogram of wine region 1')\n",
        "\n",
        "\n",
        "# set the x-axis limit\n",
        "plt.xlim(0,1)\n",
        "\n",
        "\n",
        "# set the title\n",
        "plt.xlabel('Predicted probabilities wine region 1')\n",
        "plt.ylabel('Frequency')"
      ],
      "metadata": {
        "colab": {
          "base_uri": "https://localhost:8080/",
          "height": 319
        },
        "id": "xn-kIuHV-cBU",
        "outputId": "ac4bb05c-c671-46e9-d187-5f156e5661c5"
      },
      "execution_count": null,
      "outputs": [
        {
          "output_type": "execute_result",
          "data": {
            "text/plain": [
              "Text(0, 0.5, 'Frequency')"
            ]
          },
          "metadata": {},
          "execution_count": 35
        },
        {
          "output_type": "display_data",
          "data": {
            "text/plain": [
              "<Figure size 432x288 with 1 Axes>"
            ],
            "image/png": "[encoded data removed]"
          },
          "metadata": {
            "needs_background": "light"
          }
        }
      ]
    },
    {
      "cell_type": "markdown",
      "source": [
        "## ROC - AUC"
      ],
      "metadata": {
        "id": "g_MIeSvO-y-7"
      }
    },
    {
      "cell_type": "markdown",
      "source": [
        "Another tool to measure the classification model performance visually is ROC Curve. ROC Curve stands for Receiver Operating Characteristic Curve. An ROC Curve is a plot which shows the performance of a classification model at various classification threshold levels.\n",
        "\n",
        "The ROC Curve plots the True Positive Rate against the False Positive Rate at various threshold levels.\n",
        "\n",
        "In the ROC Curve, we will focus on the True Positive Rate and False Positive Rate of a single point. This will give us the general performance of the ROC curve which consists of the TPR and FPR at various threshold levels. So, an ROC Curve plots TPR vs FPR at different classification threshold levels. If we lower the threshold levels, it may result in more items being classified as positive. It will increase both Ture Positives and False Positives."
      ],
      "metadata": {
        "id": "uSzyEyBd-3Xa"
      }
    },
    {
      "cell_type": "code",
      "source": [
        "# plot ROC Curve (even though it doesn't really make sense to with a multiclass classification problem)\n",
        "# I did one though, just because\n",
        "\n",
        "from sklearn.metrics import roc_curve\n",
        "\n",
        "fpr, tpr, thresholds = roc_curve(Y_test, y_pred1, pos_label = 1)\n",
        "\n",
        "plt.figure(figsize=(6,4))\n",
        "\n",
        "plt.plot(fpr, tpr, linewidth=2)\n",
        "\n",
        "plt.plot([0,1], [0,1], 'k--' )\n",
        "\n",
        "plt.rcParams['font.size'] = 12\n",
        "\n",
        "plt.title('ROC curve for Gaussian Naive Bayes Classifier for Predicting Wine Types')\n",
        "\n",
        "plt.xlabel('False Positive Rate (1 - Specificity)')\n",
        "\n",
        "plt.ylabel('True Positive Rate (Sensitivity)')\n",
        "\n",
        "plt.show()"
      ],
      "metadata": {
        "colab": {
          "base_uri": "https://localhost:8080/",
          "height": 302
        },
        "id": "m90YVXIC_lOh",
        "outputId": "45bb4f1a-972e-47a7-9bac-b1f25d0e8d67"
      },
      "execution_count": null,
      "outputs": [
        {
          "output_type": "display_data",
          "data": {
            "text/plain": [
              "<Figure size 432x288 with 1 Axes>"
            ],
            "image/png": "[encoded data removed]"
          },
          "metadata": {
            "needs_background": "light"
          }
        }
      ]
    },
    {
      "cell_type": "markdown",
      "source": [
        "I will be disregarding how terrible this graph looks because there is not enough data to populate it correctly, and it's also one part of a three dimensional classification analysis, so it really just doesn't make sense to draw any conclusions from it."
      ],
      "metadata": {
        "id": "1ta7dwp4-T7B"
      }
    },
    {
      "cell_type": "code",
      "source": [
        "# calculate the area under the curve\n",
        "# a perfect classifier will have an AUC equal to one, and a purely random one will have an AUN equal to 0.5\n",
        "\n",
        "from sklearn.metrics import roc_auc_score\n",
        "\n",
        "ROC_AUC = roc_auc_score(Y_test, gnb.predict_proba(X_test),multi_class='ovr') \n",
        "\n",
        "print('ROC AUC : {:.4f}'.format(ROC_AUC))"
      ],
      "metadata": {
        "colab": {
          "base_uri": "https://localhost:8080/"
        },
        "id": "z7BDB7bVV1yL",
        "outputId": "79fc267a-f8e4-4cc0-cafd-06f5349313f0"
      },
      "execution_count": null,
      "outputs": [
        {
          "output_type": "stream",
          "name": "stdout",
          "text": [
            "ROC AUC : 1.0000\n"
          ]
        }
      ]
    },
    {
      "cell_type": "markdown",
      "source": [
        "The AUC approaches 1, so we can conclude that the classifier does a good job at predicting what region the wine is from. I calculated this using the multi-dimensional classification method, so it does actually make sense."
      ],
      "metadata": {
        "id": "WyfCFN9FnFka"
      }
    },
    {
      "cell_type": "markdown",
      "source": [
        "# Decision Trees"
      ],
      "metadata": {
        "id": "ewTLTlOlow-K"
      }
    },
    {
      "cell_type": "markdown",
      "source": [
        "## Training and Visualizing a Decision Tree"
      ],
      "metadata": {
        "id": "GCMLKxqfpDMr"
      }
    },
    {
      "cell_type": "code",
      "source": [
        "Y_train.to_frame()\n",
        "Y_train = Y_train.astype('str')"
      ],
      "metadata": {
        "id": "mXnKkVeYsQPO"
      },
      "execution_count": null,
      "outputs": []
    },
    {
      "cell_type": "code",
      "source": [
        "import pandas as pd\n",
        "from sklearn.tree import DecisionTreeClassifier, export_graphviz\n",
        "\n",
        "#cleaning is already done, use the same dataframes as the Bayes Classifier\n",
        "tree_clf = DecisionTreeClassifier(random_state = 0)\n",
        "tree_clf.fit(X_train,Y_train)"
      ],
      "metadata": {
        "colab": {
          "base_uri": "https://localhost:8080/",
          "height": 75
        },
        "id": "ekFEE0_59-Zu",
        "outputId": "4e115237-7d95-4f67-d8c0-1c2038d4ff5b"
      },
      "execution_count": null,
      "outputs": [
        {
          "output_type": "execute_result",
          "data": {
            "text/plain": [
              "DecisionTreeClassifier(random_state=0)"
            ],
            "text/html": [
              "<style>#sk-container-id-2 {color: black;background-color: white;}#sk-container-id-2 pre{padding: 0;}#sk-container-id-2 div.sk-toggleable {background-color: white;}#sk-container-id-2 label.sk-toggleable__label {cursor: pointer;display: block;width: 100%;margin-bottom: 0;padding: 0.3em;box-sizing: border-box;text-align: center;}#sk-container-id-2 label.sk-toggleable__label-arrow:before {content: \"▸\";float: left;margin-right: 0.25em;color: #696969;}#sk-container-id-2 label.sk-toggleable__label-arrow:hover:before {color: black;}#sk-container-id-2 div.sk-estimator:hover label.sk-toggleable__label-arrow:before {color: black;}#sk-container-id-2 div.sk-toggleable__content {max-height: 0;max-width: 0;overflow: hidden;text-align: left;background-color: #f0f8ff;}#sk-container-id-2 div.sk-toggleable__content pre {margin: 0.2em;color: black;border-radius: 0.25em;background-color: #f0f8ff;}#sk-container-id-2 input.sk-toggleable__control:checked~div.sk-toggleable__content {max-height: 200px;max-width: 100%;overflow: auto;}#sk-container-id-2 input.sk-toggleable__control:checked~label.sk-toggleable__label-arrow:before {content: \"▾\";}#sk-container-id-2 div.sk-estimator input.sk-toggleable__control:checked~label.sk-toggleable__label {background-color: #d4ebff;}#sk-container-id-2 div.sk-label input.sk-toggleable__control:checked~label.sk-toggleable__label {background-color: #d4ebff;}#sk-container-id-2 input.sk-hidden--visually {border: 0;clip: rect(1px 1px 1px 1px);clip: rect(1px, 1px, 1px, 1px);height: 1px;margin: -1px;overflow: hidden;padding: 0;position: absolute;width: 1px;}#sk-container-id-2 div.sk-estimator {font-family: monospace;background-color: #f0f8ff;border: 1px dotted black;border-radius: 0.25em;box-sizing: border-box;margin-bottom: 0.5em;}#sk-container-id-2 div.sk-estimator:hover {background-color: #d4ebff;}#sk-container-id-2 div.sk-parallel-item::after {content: \"\";width: 100%;border-bottom: 1px solid gray;flex-grow: 1;}#sk-container-id-2 div.sk-label:hover label.sk-toggleable__label {background-color: #d4ebff;}#sk-container-id-2 div.sk-serial::before {content: \"\";position: absolute;border-left: 1px solid gray;box-sizing: border-box;top: 0;bottom: 0;left: 50%;z-index: 0;}#sk-container-id-2 div.sk-serial {display: flex;flex-direction: column;align-items: center;background-color: white;padding-right: 0.2em;padding-left: 0.2em;position: relative;}#sk-container-id-2 div.sk-item {position: relative;z-index: 1;}#sk-container-id-2 div.sk-parallel {display: flex;align-items: stretch;justify-content: center;background-color: white;position: relative;}#sk-container-id-2 div.sk-item::before, #sk-container-id-2 div.sk-parallel-item::before {content: \"\";position: absolute;border-left: 1px solid gray;box-sizing: border-box;top: 0;bottom: 0;left: 50%;z-index: -1;}#sk-container-id-2 div.sk-parallel-item {display: flex;flex-direction: column;z-index: 1;position: relative;background-color: white;}#sk-container-id-2 div.sk-parallel-item:first-child::after {align-self: flex-end;width: 50%;}#sk-container-id-2 div.sk-parallel-item:last-child::after {align-self: flex-start;width: 50%;}#sk-container-id-2 div.sk-parallel-item:only-child::after {width: 0;}#sk-container-id-2 div.sk-dashed-wrapped {border: 1px dashed gray;margin: 0 0.4em 0.5em 0.4em;box-sizing: border-box;padding-bottom: 0.4em;background-color: white;}#sk-container-id-2 div.sk-label label {font-family: monospace;font-weight: bold;display: inline-block;line-height: 1.2em;}#sk-container-id-2 div.sk-label-container {text-align: center;}#sk-container-id-2 div.sk-container {/* jupyter's `normalize.less` sets `[hidden] { display: none; }` but bootstrap.min.css set `[hidden] { display: none !important; }` so we also need the `!important` here to be able to override the default hidden behavior on the sphinx rendered scikit-learn.org. See: https://github.com/scikit-learn/scikit-learn/issues/21755 */display: inline-block !important;position: relative;}#sk-container-id-2 div.sk-text-repr-fallback {display: none;}</style><div id=\"sk-container-id-2\" class=\"sk-top-container\"><div class=\"sk-text-repr-fallback\"><pre>DecisionTreeClassifier(random_state=0)</pre><b>In a Jupyter environment, please rerun this cell to show the HTML representation or trust the notebook. <br />On GitHub, the HTML representation is unable to render, please try loading this page with nbviewer.org.</b></div><div class=\"sk-container\" hidden><div class=\"sk-item\"><div class=\"sk-estimator sk-toggleable\"><input class=\"sk-toggleable__control sk-hidden--visually\" id=\"sk-estimator-id-2\" type=\"checkbox\" checked><label for=\"sk-estimator-id-2\" class=\"sk-toggleable__label sk-toggleable__label-arrow\">DecisionTreeClassifier</label><div class=\"sk-toggleable__content\"><pre>DecisionTreeClassifier(random_state=0)</pre></div></div></div></div></div>"
            ]
          },
          "metadata": {},
          "execution_count": 39
        }
      ]
    },
    {
      "cell_type": "code",
      "source": [
        "#Visualize the trained decision tree by export_graphviz() method\n",
        "\n",
        "from sklearn.tree import export_graphviz\n",
        "from sklearn import tree\n",
        "from IPython.display import SVG\n",
        "from graphviz import Source\n",
        "from IPython.display import display\n",
        "\n",
        "labels = X_train.columns\n",
        "graph = Source(tree.export_graphviz(tree_clf, feature_names = labels, class_names = Y_train.unique(), max_depth = None, filled = True))\n",
        "display(SVG(graph.pipe(format = 'svg')))\n",
        "\n",
        "plt.savefig(\"/content/drive/MyDrive/School/d. Undergrad/Year 2/Spring/CSC 240/Homework4/DecisionTree.png\")"
      ],
      "metadata": {
        "colab": {
          "base_uri": "https://localhost:8080/",
          "height": 795
        },
        "id": "zK_Qp_3cqSrX",
        "outputId": "7fdb1ced-8c90-4434-c3fc-7a2009a1a8f5"
      },
      "execution_count": null,
      "outputs": [
        {
          "output_type": "display_data",
          "data": {
            "text/plain": [
              "<IPython.core.display.SVG object>"
            ],
            "image/svg+xml": "<svg xmlns=\"http://www.w3.org/2000/svg\" xmlns:xlink=\"http://www.w3.org/1999/xlink\" width=\"631pt\" height=\"552pt\" viewBox=\"0.00 0.00 631.00 552.00\">\n<g id=\"graph0\" class=\"graph\" transform=\"scale(1 1) rotate(0) translate(4 548)\">\n<title>Tree</title>\n<polygon fill=\"white\" stroke=\"transparent\" points=\"-4,4 -4,-548 627,-548 627,4 -4,4\"/>\n<!-- 0 -->\n<g id=\"node1\" class=\"node\">\n<title>0</title>\n<polygon fill=\"#eafcf2\" stroke=\"black\" points=\"365,-544 192,-544 192,-461 365,-461 365,-544\"/>\n<text text-anchor=\"middle\" x=\"278.5\" y=\"-528.8\" font-family=\"Helvetica,sans-Serif\" font-size=\"14.00\">('color intensity',) &lt;= -0.22</text>\n<text text-anchor=\"middle\" x=\"278.5\" y=\"-513.8\" font-family=\"Helvetica,sans-Serif\" font-size=\"14.00\">gini = 0.66</text>\n<text text-anchor=\"middle\" x=\"278.5\" y=\"-498.8\" font-family=\"Helvetica,sans-Serif\" font-size=\"14.00\">samples = 124</text>\n<text text-anchor=\"middle\" x=\"278.5\" y=\"-483.8\" font-family=\"Helvetica,sans-Serif\" font-size=\"14.00\">value = [40, 49, 35]</text>\n<text text-anchor=\"middle\" x=\"278.5\" y=\"-468.8\" font-family=\"Helvetica,sans-Serif\" font-size=\"14.00\">class = 2</text>\n</g>\n<!-- 1 -->\n<g id=\"node2\" class=\"node\">\n<title>1</title>\n<polygon fill=\"#46e78a\" stroke=\"black\" points=\"263.5,-425 129.5,-425 129.5,-342 263.5,-342 263.5,-425\"/>\n<text text-anchor=\"middle\" x=\"196.5\" y=\"-409.8\" font-family=\"Helvetica,sans-Serif\" font-size=\"14.00\">('proline',) &lt;= 0.703</text>\n<text text-anchor=\"middle\" x=\"196.5\" y=\"-394.8\" font-family=\"Helvetica,sans-Serif\" font-size=\"14.00\">gini = 0.12</text>\n<text text-anchor=\"middle\" x=\"196.5\" y=\"-379.8\" font-family=\"Helvetica,sans-Serif\" font-size=\"14.00\">samples = 47</text>\n<text text-anchor=\"middle\" x=\"196.5\" y=\"-364.8\" font-family=\"Helvetica,sans-Serif\" font-size=\"14.00\">value = [3, 44, 0]</text>\n<text text-anchor=\"middle\" x=\"196.5\" y=\"-349.8\" font-family=\"Helvetica,sans-Serif\" font-size=\"14.00\">class = 2</text>\n</g>\n<!-- 0&#45;&gt;1 -->\n<g id=\"edge1\" class=\"edge\">\n<title>0-&gt;1</title>\n<path fill=\"none\" stroke=\"black\" d=\"M250.05,-460.91C243.82,-452.01 237.16,-442.51 230.72,-433.33\"/>\n<polygon fill=\"black\" stroke=\"black\" points=\"233.5,-431.2 224.9,-425.02 227.77,-435.22 233.5,-431.2\"/>\n<text text-anchor=\"middle\" x=\"220.57\" y=\"-445.94\" font-family=\"Helvetica,sans-Serif\" font-size=\"14.00\">True</text>\n</g>\n<!-- 6 -->\n<g id=\"node7\" class=\"node\">\n<title>6</title>\n<polygon fill=\"#fef9f6\" stroke=\"black\" points=\"439.5,-425 281.5,-425 281.5,-342 439.5,-342 439.5,-425\"/>\n<text text-anchor=\"middle\" x=\"360.5\" y=\"-409.8\" font-family=\"Helvetica,sans-Serif\" font-size=\"14.00\">('flavanoids',) &lt;= -0.286</text>\n<text text-anchor=\"middle\" x=\"360.5\" y=\"-394.8\" font-family=\"Helvetica,sans-Serif\" font-size=\"14.00\">gini = 0.558</text>\n<text text-anchor=\"middle\" x=\"360.5\" y=\"-379.8\" font-family=\"Helvetica,sans-Serif\" font-size=\"14.00\">samples = 77</text>\n<text text-anchor=\"middle\" x=\"360.5\" y=\"-364.8\" font-family=\"Helvetica,sans-Serif\" font-size=\"14.00\">value = [37, 5, 35]</text>\n<text text-anchor=\"middle\" x=\"360.5\" y=\"-349.8\" font-family=\"Helvetica,sans-Serif\" font-size=\"14.00\">class = 1</text>\n</g>\n<!-- 0&#45;&gt;6 -->\n<g id=\"edge6\" class=\"edge\">\n<title>0-&gt;6</title>\n<path fill=\"none\" stroke=\"black\" d=\"M306.95,-460.91C313.18,-452.01 319.84,-442.51 326.28,-433.33\"/>\n<polygon fill=\"black\" stroke=\"black\" points=\"329.23,-435.22 332.1,-425.02 323.5,-431.2 329.23,-435.22\"/>\n<text text-anchor=\"middle\" x=\"336.43\" y=\"-445.94\" font-family=\"Helvetica,sans-Serif\" font-size=\"14.00\">False</text>\n</g>\n<!-- 2 -->\n<g id=\"node3\" class=\"node\">\n<title>2</title>\n<polygon fill=\"#3de684\" stroke=\"black\" points=\"131,-306 14,-306 14,-223 131,-223 131,-306\"/>\n<text text-anchor=\"middle\" x=\"72.5\" y=\"-290.8\" font-family=\"Helvetica,sans-Serif\" font-size=\"14.00\">('ash',) &lt;= 1.882</text>\n<text text-anchor=\"middle\" x=\"72.5\" y=\"-275.8\" font-family=\"Helvetica,sans-Serif\" font-size=\"14.00\">gini = 0.043</text>\n<text text-anchor=\"middle\" x=\"72.5\" y=\"-260.8\" font-family=\"Helvetica,sans-Serif\" font-size=\"14.00\">samples = 45</text>\n<text text-anchor=\"middle\" x=\"72.5\" y=\"-245.8\" font-family=\"Helvetica,sans-Serif\" font-size=\"14.00\">value = [1, 44, 0]</text>\n<text text-anchor=\"middle\" x=\"72.5\" y=\"-230.8\" font-family=\"Helvetica,sans-Serif\" font-size=\"14.00\">class = 2</text>\n</g>\n<!-- 1&#45;&gt;2 -->\n<g id=\"edge2\" class=\"edge\">\n<title>1-&gt;2</title>\n<path fill=\"none\" stroke=\"black\" d=\"M153.48,-341.91C143.57,-332.56 132.95,-322.54 122.77,-312.93\"/>\n<polygon fill=\"black\" stroke=\"black\" points=\"125.12,-310.34 115.45,-306.02 120.32,-315.43 125.12,-310.34\"/>\n</g>\n<!-- 5 -->\n<g id=\"node6\" class=\"node\">\n<title>5</title>\n<polygon fill=\"#e58139\" stroke=\"black\" points=\"259.5,-298.5 149.5,-298.5 149.5,-230.5 259.5,-230.5 259.5,-298.5\"/>\n<text text-anchor=\"middle\" x=\"204.5\" y=\"-283.3\" font-family=\"Helvetica,sans-Serif\" font-size=\"14.00\">gini = 0.0</text>\n<text text-anchor=\"middle\" x=\"204.5\" y=\"-268.3\" font-family=\"Helvetica,sans-Serif\" font-size=\"14.00\">samples = 2</text>\n<text text-anchor=\"middle\" x=\"204.5\" y=\"-253.3\" font-family=\"Helvetica,sans-Serif\" font-size=\"14.00\">value = [2, 0, 0]</text>\n<text text-anchor=\"middle\" x=\"204.5\" y=\"-238.3\" font-family=\"Helvetica,sans-Serif\" font-size=\"14.00\">class = 1</text>\n</g>\n<!-- 1&#45;&gt;5 -->\n<g id=\"edge5\" class=\"edge\">\n<title>1-&gt;5</title>\n<path fill=\"none\" stroke=\"black\" d=\"M199.28,-341.91C200.01,-331.2 200.8,-319.62 201.54,-308.78\"/>\n<polygon fill=\"black\" stroke=\"black\" points=\"205.04,-308.88 202.23,-298.67 198.06,-308.4 205.04,-308.88\"/>\n</g>\n<!-- 3 -->\n<g id=\"node4\" class=\"node\">\n<title>3</title>\n<polygon fill=\"#39e581\" stroke=\"black\" points=\"117,-179.5 0,-179.5 0,-111.5 117,-111.5 117,-179.5\"/>\n<text text-anchor=\"middle\" x=\"58.5\" y=\"-164.3\" font-family=\"Helvetica,sans-Serif\" font-size=\"14.00\">gini = 0.0</text>\n<text text-anchor=\"middle\" x=\"58.5\" y=\"-149.3\" font-family=\"Helvetica,sans-Serif\" font-size=\"14.00\">samples = 44</text>\n<text text-anchor=\"middle\" x=\"58.5\" y=\"-134.3\" font-family=\"Helvetica,sans-Serif\" font-size=\"14.00\">value = [0, 44, 0]</text>\n<text text-anchor=\"middle\" x=\"58.5\" y=\"-119.3\" font-family=\"Helvetica,sans-Serif\" font-size=\"14.00\">class = 2</text>\n</g>\n<!-- 2&#45;&gt;3 -->\n<g id=\"edge3\" class=\"edge\">\n<title>2-&gt;3</title>\n<path fill=\"none\" stroke=\"black\" d=\"M67.64,-222.91C66.36,-212.2 64.98,-200.62 63.68,-189.78\"/>\n<polygon fill=\"black\" stroke=\"black\" points=\"67.13,-189.18 62.47,-179.67 60.18,-190.01 67.13,-189.18\"/>\n</g>\n<!-- 4 -->\n<g id=\"node5\" class=\"node\">\n<title>4</title>\n<polygon fill=\"#e58139\" stroke=\"black\" points=\"245.5,-179.5 135.5,-179.5 135.5,-111.5 245.5,-111.5 245.5,-179.5\"/>\n<text text-anchor=\"middle\" x=\"190.5\" y=\"-164.3\" font-family=\"Helvetica,sans-Serif\" font-size=\"14.00\">gini = 0.0</text>\n<text text-anchor=\"middle\" x=\"190.5\" y=\"-149.3\" font-family=\"Helvetica,sans-Serif\" font-size=\"14.00\">samples = 1</text>\n<text text-anchor=\"middle\" x=\"190.5\" y=\"-134.3\" font-family=\"Helvetica,sans-Serif\" font-size=\"14.00\">value = [1, 0, 0]</text>\n<text text-anchor=\"middle\" x=\"190.5\" y=\"-119.3\" font-family=\"Helvetica,sans-Serif\" font-size=\"14.00\">class = 1</text>\n</g>\n<!-- 2&#45;&gt;4 -->\n<g id=\"edge4\" class=\"edge\">\n<title>2-&gt;4</title>\n<path fill=\"none\" stroke=\"black\" d=\"M113.44,-222.91C125.24,-211.21 138.1,-198.46 149.88,-186.78\"/>\n<polygon fill=\"black\" stroke=\"black\" points=\"152.41,-189.19 157.05,-179.67 147.48,-184.22 152.41,-189.19\"/>\n</g>\n<!-- 7 -->\n<g id=\"node8\" class=\"node\">\n<title>7</title>\n<polygon fill=\"#8139e5\" stroke=\"black\" points=\"411,-298.5 294,-298.5 294,-230.5 411,-230.5 411,-298.5\"/>\n<text text-anchor=\"middle\" x=\"352.5\" y=\"-283.3\" font-family=\"Helvetica,sans-Serif\" font-size=\"14.00\">gini = 0.0</text>\n<text text-anchor=\"middle\" x=\"352.5\" y=\"-268.3\" font-family=\"Helvetica,sans-Serif\" font-size=\"14.00\">samples = 35</text>\n<text text-anchor=\"middle\" x=\"352.5\" y=\"-253.3\" font-family=\"Helvetica,sans-Serif\" font-size=\"14.00\">value = [0, 0, 35]</text>\n<text text-anchor=\"middle\" x=\"352.5\" y=\"-238.3\" font-family=\"Helvetica,sans-Serif\" font-size=\"14.00\">class = 3</text>\n</g>\n<!-- 6&#45;&gt;7 -->\n<g id=\"edge7\" class=\"edge\">\n<title>6-&gt;7</title>\n<path fill=\"none\" stroke=\"black\" d=\"M357.72,-341.91C356.99,-331.2 356.2,-319.62 355.46,-308.78\"/>\n<polygon fill=\"black\" stroke=\"black\" points=\"358.94,-308.4 354.77,-298.67 351.96,-308.88 358.94,-308.4\"/>\n</g>\n<!-- 8 -->\n<g id=\"node9\" class=\"node\">\n<title>8</title>\n<polygon fill=\"#e99254\" stroke=\"black\" points=\"563.5,-306 429.5,-306 429.5,-223 563.5,-223 563.5,-306\"/>\n<text text-anchor=\"middle\" x=\"496.5\" y=\"-290.8\" font-family=\"Helvetica,sans-Serif\" font-size=\"14.00\">('proline',) &lt;= 0.146</text>\n<text text-anchor=\"middle\" x=\"496.5\" y=\"-275.8\" font-family=\"Helvetica,sans-Serif\" font-size=\"14.00\">gini = 0.21</text>\n<text text-anchor=\"middle\" x=\"496.5\" y=\"-260.8\" font-family=\"Helvetica,sans-Serif\" font-size=\"14.00\">samples = 42</text>\n<text text-anchor=\"middle\" x=\"496.5\" y=\"-245.8\" font-family=\"Helvetica,sans-Serif\" font-size=\"14.00\">value = [37, 5, 0]</text>\n<text text-anchor=\"middle\" x=\"496.5\" y=\"-230.8\" font-family=\"Helvetica,sans-Serif\" font-size=\"14.00\">class = 1</text>\n</g>\n<!-- 6&#45;&gt;8 -->\n<g id=\"edge8\" class=\"edge\">\n<title>6-&gt;8</title>\n<path fill=\"none\" stroke=\"black\" d=\"M407.68,-341.91C418.66,-332.47 430.43,-322.34 441.69,-312.65\"/>\n<polygon fill=\"black\" stroke=\"black\" points=\"444.1,-315.2 449.4,-306.02 439.54,-309.89 444.1,-315.2\"/>\n</g>\n<!-- 9 -->\n<g id=\"node10\" class=\"node\">\n<title>9</title>\n<polygon fill=\"#61ea9a\" stroke=\"black\" points=\"487.5,-187 333.5,-187 333.5,-104 487.5,-104 487.5,-187\"/>\n<text text-anchor=\"middle\" x=\"410.5\" y=\"-171.8\" font-family=\"Helvetica,sans-Serif\" font-size=\"14.00\">('malic acid',) &lt;= 1.241</text>\n<text text-anchor=\"middle\" x=\"410.5\" y=\"-156.8\" font-family=\"Helvetica,sans-Serif\" font-size=\"14.00\">gini = 0.278</text>\n<text text-anchor=\"middle\" x=\"410.5\" y=\"-141.8\" font-family=\"Helvetica,sans-Serif\" font-size=\"14.00\">samples = 6</text>\n<text text-anchor=\"middle\" x=\"410.5\" y=\"-126.8\" font-family=\"Helvetica,sans-Serif\" font-size=\"14.00\">value = [1, 5, 0]</text>\n<text text-anchor=\"middle\" x=\"410.5\" y=\"-111.8\" font-family=\"Helvetica,sans-Serif\" font-size=\"14.00\">class = 2</text>\n</g>\n<!-- 8&#45;&gt;9 -->\n<g id=\"edge9\" class=\"edge\">\n<title>8-&gt;9</title>\n<path fill=\"none\" stroke=\"black\" d=\"M466.66,-222.91C460.13,-214.01 453.14,-204.51 446.39,-195.33\"/>\n<polygon fill=\"black\" stroke=\"black\" points=\"449.03,-193.01 440.28,-187.02 443.39,-197.15 449.03,-193.01\"/>\n</g>\n<!-- 12 -->\n<g id=\"node13\" class=\"node\">\n<title>12</title>\n<polygon fill=\"#e58139\" stroke=\"black\" points=\"623,-179.5 506,-179.5 506,-111.5 623,-111.5 623,-179.5\"/>\n<text text-anchor=\"middle\" x=\"564.5\" y=\"-164.3\" font-family=\"Helvetica,sans-Serif\" font-size=\"14.00\">gini = 0.0</text>\n<text text-anchor=\"middle\" x=\"564.5\" y=\"-149.3\" font-family=\"Helvetica,sans-Serif\" font-size=\"14.00\">samples = 36</text>\n<text text-anchor=\"middle\" x=\"564.5\" y=\"-134.3\" font-family=\"Helvetica,sans-Serif\" font-size=\"14.00\">value = [36, 0, 0]</text>\n<text text-anchor=\"middle\" x=\"564.5\" y=\"-119.3\" font-family=\"Helvetica,sans-Serif\" font-size=\"14.00\">class = 1</text>\n</g>\n<!-- 8&#45;&gt;12 -->\n<g id=\"edge12\" class=\"edge\">\n<title>8-&gt;12</title>\n<path fill=\"none\" stroke=\"black\" d=\"M520.09,-222.91C526.57,-211.76 533.6,-199.66 540.13,-188.44\"/>\n<polygon fill=\"black\" stroke=\"black\" points=\"543.22,-190.07 545.22,-179.67 537.17,-186.55 543.22,-190.07\"/>\n</g>\n<!-- 10 -->\n<g id=\"node11\" class=\"node\">\n<title>10</title>\n<polygon fill=\"#39e581\" stroke=\"black\" points=\"401.5,-68 291.5,-68 291.5,0 401.5,0 401.5,-68\"/>\n<text text-anchor=\"middle\" x=\"346.5\" y=\"-52.8\" font-family=\"Helvetica,sans-Serif\" font-size=\"14.00\">gini = 0.0</text>\n<text text-anchor=\"middle\" x=\"346.5\" y=\"-37.8\" font-family=\"Helvetica,sans-Serif\" font-size=\"14.00\">samples = 5</text>\n<text text-anchor=\"middle\" x=\"346.5\" y=\"-22.8\" font-family=\"Helvetica,sans-Serif\" font-size=\"14.00\">value = [0, 5, 0]</text>\n<text text-anchor=\"middle\" x=\"346.5\" y=\"-7.8\" font-family=\"Helvetica,sans-Serif\" font-size=\"14.00\">class = 2</text>\n</g>\n<!-- 9&#45;&gt;10 -->\n<g id=\"edge10\" class=\"edge\">\n<title>9-&gt;10</title>\n<path fill=\"none\" stroke=\"black\" d=\"M386.67,-103.73C381.6,-95.06 376.25,-85.9 371.15,-77.18\"/>\n<polygon fill=\"black\" stroke=\"black\" points=\"374.03,-75.17 365.96,-68.3 367.99,-78.7 374.03,-75.17\"/>\n</g>\n<!-- 11 -->\n<g id=\"node12\" class=\"node\">\n<title>11</title>\n<polygon fill=\"#e58139\" stroke=\"black\" points=\"529.5,-68 419.5,-68 419.5,0 529.5,0 529.5,-68\"/>\n<text text-anchor=\"middle\" x=\"474.5\" y=\"-52.8\" font-family=\"Helvetica,sans-Serif\" font-size=\"14.00\">gini = 0.0</text>\n<text text-anchor=\"middle\" x=\"474.5\" y=\"-37.8\" font-family=\"Helvetica,sans-Serif\" font-size=\"14.00\">samples = 1</text>\n<text text-anchor=\"middle\" x=\"474.5\" y=\"-22.8\" font-family=\"Helvetica,sans-Serif\" font-size=\"14.00\">value = [1, 0, 0]</text>\n<text text-anchor=\"middle\" x=\"474.5\" y=\"-7.8\" font-family=\"Helvetica,sans-Serif\" font-size=\"14.00\">class = 1</text>\n</g>\n<!-- 9&#45;&gt;11 -->\n<g id=\"edge11\" class=\"edge\">\n<title>9-&gt;11</title>\n<path fill=\"none\" stroke=\"black\" d=\"M434.33,-103.73C439.4,-95.06 444.75,-85.9 449.85,-77.18\"/>\n<polygon fill=\"black\" stroke=\"black\" points=\"453.01,-78.7 455.04,-68.3 446.97,-75.17 453.01,-78.7\"/>\n</g>\n</g>\n</svg>"
          },
          "metadata": {}
        },
        {
          "output_type": "display_data",
          "data": {
            "text/plain": [
              "<Figure size 432x288 with 0 Axes>"
            ]
          },
          "metadata": {}
        }
      ]
    },
    {
      "cell_type": "markdown",
      "source": [
        "## Making Predictions"
      ],
      "metadata": {
        "id": "9iqbsEWz4hA5"
      }
    },
    {
      "cell_type": "markdown",
      "source": [
        "The classification starts at the root node and checks whether the proline level is less than or equal to 755.0. If true, it moves down to the root's left child node (depth 1, left). It then continues with this behavior until it reaches a leaf node, which predicts the class of the wine.\n",
        "\n",
        "\n",
        "\n",
        "*   **Samples:** counts how many training instances it applies to. \n",
        "*   **Value:** tells us how many training instances of each class this node applies to.\n",
        "*   **Gini:** measures impurity: a node is \"pure\" (gini = 0) if all training instances it applies to belong to the same class.\n",
        "*   **Entropy:** by default, gini impurity measure is used, but we can select the entropy impurity measure instead by setting the ctriterion hyperparameter to \"entropy\". A set's entropy is zero when it contains instances of only one class. \n",
        "\n",
        "**Note:** a node's gini impurity is generally lower than its parent's. This is ensured by the CART training algorithm's cost function, which splits each node in a way that minimizes the weighted sum of its children's gini impurities. However, if one child is smaller than the other, it is possible for it to have a higher gini impurity than its parent, as long as this increase is more than compensated for by a decrease of the other child's impurity.\n",
        "\n",
        "**Gini impurity or entropy?**\n",
        "Most of the time it does not make a big difference; they usually lead to similar trees. Gini imprity is slightly faster to compute, so it is a good default. However, gini impurity tends to isolate the most frequent class in its own branch of the tree, whil entropy tends to produce slightly more balanced trees.\n",
        "\n",
        "\n"
      ],
      "metadata": {
        "id": "1xqjO1rb4yDa"
      }
    },
    {
      "cell_type": "markdown",
      "source": [
        "## Estimating Class / Class Probabilities"
      ],
      "metadata": {
        "id": "KYUyFmuF6sHq"
      }
    },
    {
      "cell_type": "markdown",
      "source": [
        "Decision trees can estimate the probability that an instance belongs to a particular class k: it traverses the tree to find the leaf node for this instance and returns the ratio of training instances of class k in this node. "
      ],
      "metadata": {
        "id": "ZtyCc2SZ6x3V"
      }
    },
    {
      "cell_type": "code",
      "source": [
        "tree_pred = tree_clf.predict(X_test)\n",
        "tree_train_pred = tree_clf.predict(X_train)"
      ],
      "metadata": {
        "id": "T17LbEv_-czG"
      },
      "execution_count": null,
      "outputs": []
    },
    {
      "cell_type": "code",
      "source": [
        "print(\"Model accuracy: \")\n",
        "print(accuracy_score(Y_test.astype('str'), tree_pred))\n",
        "\n",
        "print(\"Training set accuracy: \")\n",
        "print(accuracy_score(Y_train, tree_train_pred))\n",
        "\n",
        "print(\"Testing set classification report: \\n\")\n",
        "print(classification_report(Y_test.astype('str'),tree_pred))\n",
        "\n",
        "print(\"Training set classification report: \\n\")\n",
        "print(classification_report(Y_train.astype('str'),tree_train_pred))"
      ],
      "metadata": {
        "colab": {
          "base_uri": "https://localhost:8080/"
        },
        "id": "WQQ0KCNG_fMg",
        "outputId": "1b0d967d-05b3-4b45-ab08-e94b64cad35a"
      },
      "execution_count": null,
      "outputs": [
        {
          "output_type": "stream",
          "name": "stdout",
          "text": [
            "Model accuracy: \n",
            "0.9444444444444444\n",
            "Training set accuracy: \n",
            "1.0\n",
            "Testing set classification report: \n",
            "\n",
            "              precision    recall  f1-score   support\n",
            "\n",
            "           1       1.00      0.89      0.94        19\n",
            "           2       0.91      0.95      0.93        22\n",
            "           3       0.93      1.00      0.96        13\n",
            "\n",
            "    accuracy                           0.94        54\n",
            "   macro avg       0.95      0.95      0.95        54\n",
            "weighted avg       0.95      0.94      0.94        54\n",
            "\n",
            "Training set classification report: \n",
            "\n",
            "              precision    recall  f1-score   support\n",
            "\n",
            "           1       1.00      1.00      1.00        40\n",
            "           2       1.00      1.00      1.00        49\n",
            "           3       1.00      1.00      1.00        35\n",
            "\n",
            "    accuracy                           1.00       124\n",
            "   macro avg       1.00      1.00      1.00       124\n",
            "weighted avg       1.00      1.00      1.00       124\n",
            "\n"
          ]
        }
      ]
    },
    {
      "cell_type": "markdown",
      "source": [
        "The model fits the training set perfectly, and fits the testing set with an accuracy of 94%. The discrepancy between those two scores is not terribly high, especially considering the smallish size of the data set. Therefore I feel comfortable concluding that there is no severe overfitting happening in this model, and it should likely perform well on all similar wine data."
      ],
      "metadata": {
        "id": "VtJdmmfSAzgP"
      }
    },
    {
      "cell_type": "code",
      "source": [
        "\n",
        "ROC_AUC = roc_auc_score(Y_test, gnb.predict_proba(X_test),multi_class='ovr') \n",
        "\n",
        "print('ROC AUC : {:.4f}'.format(ROC_AUC))"
      ],
      "metadata": {
        "colab": {
          "base_uri": "https://localhost:8080/"
        },
        "id": "A9wKlUEe_Fzq",
        "outputId": "f55a5edd-a894-4776-e3f2-6c8e792b8874"
      },
      "execution_count": null,
      "outputs": [
        {
          "output_type": "stream",
          "name": "stdout",
          "text": [
            "ROC AUC : 1.0000\n"
          ]
        }
      ]
    },
    {
      "cell_type": "markdown",
      "source": [
        "The ROC area under the curve came out to be 1.00 again, which indicates a perfect (or at least very close to perfect) fit of the testing data."
      ],
      "metadata": {
        "id": "PPhhvjex_dvu"
      }
    }
  ]
}