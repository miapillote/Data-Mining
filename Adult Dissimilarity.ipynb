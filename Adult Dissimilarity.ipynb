{
  "nbformat": 4,
  "nbformat_minor": 0,
  "metadata": {
    "colab": {
      "provenance": []
    },
    "kernelspec": {
      "name": "python3",
      "display_name": "Python 3"
    },
    "language_info": {
      "name": "python"
    }
  },
  "cells": [
    {
      "cell_type": "code",
      "execution_count": null,
      "metadata": {
        "id": "rPXfdzF9cVmf"
      },
      "outputs": [],
      "source": [
        "#imports\n",
        "import pandas as pd\n",
        "import matplotlib.pyplot as plt\n",
        "import math"
      ]
    },
    {
      "cell_type": "code",
      "source": [
        "from google.colab import drive\n",
        "drive.mount('/content/drive')"
      ],
      "metadata": {
        "colab": {
          "base_uri": "https://localhost:8080/"
        },
        "id": "oDHYiPZv6tUx",
        "outputId": "e2af178d-3d8d-4629-fc5c-1c659cc7e151"
      },
      "execution_count": null,
      "outputs": [
        {
          "output_type": "stream",
          "name": "stdout",
          "text": [
            "Drive already mounted at /content/drive; to attempt to forcibly remount, call drive.mount(\"/content/drive\", force_remount=True).\n"
          ]
        }
      ]
    },
    {
      "cell_type": "code",
      "source": [
        "#load data\n",
        "adultData = pd.read_csv('/content/drive/MyDrive/School/d. Undergrad/Year 2/Spring/CSC 240/adult.data',sep = ',')"
      ],
      "metadata": {
        "id": "L8uIUDLwdems"
      },
      "execution_count": null,
      "outputs": []
    },
    {
      "cell_type": "markdown",
      "source": [
        "This assignment is about similarity/dissimilarity/distance in heterogeneous data sets and is based largely on your lecture discussions of distance measurements.\n",
        "\n",
        "1. For each attribute in the data set, design and program a similarity metric. This is a function that takes in two values' attribute balues and returns a result in the interval [0,1], 0 meaning \"not similar at all\", and 1 meaning \"similar.\n",
        "2. Write a function that takes two entire records (two rows from the database) and returns a result in the interval [0,1].\n",
        "3. You should hand in a pdf that includes 15 subsections - one for each attribute, and one for the overall function. Each section should contain a short (no more than one paragraph) of how the function works, why your strategy makes sense for htat attribute, and the code for the function itself (not the entire program)."
      ],
      "metadata": {
        "id": "h-_dsTskd56i"
      }
    },
    {
      "cell_type": "markdown",
      "source": [
        "The options for dissimilarity computations:\n",
        "1. Binary\n",
        "> *   Symmetric\n",
        "> *   Asymmetric (Jaccard Coefficient)\n",
        "\n",
        "2. Numeric \n",
        "> * Euclidian Distance (as the crow flies)\n",
        "> * Manhattan Distance (city blocks)\n",
        "> * Minkowski Distance (generalization of Euclidian and Manhattan)\n",
        "> * Supremum Distance (Chebyshev distance)\n",
        "\n",
        "3. Ordinal\n",
        "> * Rankings (then compute as numeric)"
      ],
      "metadata": {
        "id": "TqsyEp4qh0ZL"
      }
    },
    {
      "cell_type": "code",
      "source": [
        "adultData.info()\n",
        "adultData.describe()"
      ],
      "metadata": {
        "colab": {
          "base_uri": "https://localhost:8080/",
          "height": 682
        },
        "id": "0eZPwEbmfCMT",
        "outputId": "1b5955b2-bfb6-405c-8dec-e2cabed22f5d"
      },
      "execution_count": null,
      "outputs": [
        {
          "output_type": "stream",
          "name": "stdout",
          "text": [
            "<class 'pandas.core.frame.DataFrame'>\n",
            "RangeIndex: 32561 entries, 0 to 32560\n",
            "Data columns (total 15 columns):\n",
            " #   Column          Non-Null Count  Dtype \n",
            "---  ------          --------------  ----- \n",
            " 0   age             32561 non-null  int64 \n",
            " 1   workclass       32561 non-null  object\n",
            " 2   fnlwgt          32561 non-null  int64 \n",
            " 3   education       32561 non-null  object\n",
            " 4   education-num   32561 non-null  int64 \n",
            " 5   marital-status  32561 non-null  object\n",
            " 6   occupation      32561 non-null  object\n",
            " 7   relationship    32561 non-null  object\n",
            " 8   race            32561 non-null  object\n",
            " 9   sex             32561 non-null  object\n",
            " 10  capital-gain    32561 non-null  int64 \n",
            " 11  capital-loss    32561 non-null  int64 \n",
            " 12  hours-per-week  32561 non-null  int64 \n",
            " 13  native-country  32561 non-null  object\n",
            " 14  salary          32561 non-null  object\n",
            "dtypes: int64(6), object(9)\n",
            "memory usage: 3.7+ MB\n"
          ]
        },
        {
          "output_type": "execute_result",
          "data": {
            "text/plain": [
              "                age        fnlwgt  education-num  capital-gain  capital-loss  \\\n",
              "count  32561.000000  3.256100e+04   32561.000000  32561.000000  32561.000000   \n",
              "mean      38.581647  1.897784e+05      10.080679   1077.648844     87.303830   \n",
              "std       13.640433  1.055500e+05       2.572720   7385.292085    402.960219   \n",
              "min       17.000000  1.228500e+04       1.000000      0.000000      0.000000   \n",
              "25%       28.000000  1.178270e+05       9.000000      0.000000      0.000000   \n",
              "50%       37.000000  1.783560e+05      10.000000      0.000000      0.000000   \n",
              "75%       48.000000  2.370510e+05      12.000000      0.000000      0.000000   \n",
              "max       90.000000  1.484705e+06      16.000000  99999.000000   4356.000000   \n",
              "\n",
              "       hours-per-week  \n",
              "count    32561.000000  \n",
              "mean        40.437456  \n",
              "std         12.347429  \n",
              "min          1.000000  \n",
              "25%         40.000000  \n",
              "50%         40.000000  \n",
              "75%         45.000000  \n",
              "max         99.000000  "
            ],
            "text/html": [
              "\n",
              "  <div id=\"df-4fa0ae5c-0095-4394-8198-fd03946c7522\">\n",
              "    <div class=\"colab-df-container\">\n",
              "      <div>\n",
              "<style scoped>\n",
              "    .dataframe tbody tr th:only-of-type {\n",
              "        vertical-align: middle;\n",
              "    }\n",
              "\n",
              "    .dataframe tbody tr th {\n",
              "        vertical-align: top;\n",
              "    }\n",
              "\n",
              "    .dataframe thead th {\n",
              "        text-align: right;\n",
              "    }\n",
              "</style>\n",
              "<table border=\"1\" class=\"dataframe\">\n",
              "  <thead>\n",
              "    <tr style=\"text-align: right;\">\n",
              "      <th></th>\n",
              "      <th>age</th>\n",
              "      <th>fnlwgt</th>\n",
              "      <th>education-num</th>\n",
              "      <th>capital-gain</th>\n",
              "      <th>capital-loss</th>\n",
              "      <th>hours-per-week</th>\n",
              "    </tr>\n",
              "  </thead>\n",
              "  <tbody>\n",
              "    <tr>\n",
              "      <th>count</th>\n",
              "      <td>32561.000000</td>\n",
              "      <td>3.256100e+04</td>\n",
              "      <td>32561.000000</td>\n",
              "      <td>32561.000000</td>\n",
              "      <td>32561.000000</td>\n",
              "      <td>32561.000000</td>\n",
              "    </tr>\n",
              "    <tr>\n",
              "      <th>mean</th>\n",
              "      <td>38.581647</td>\n",
              "      <td>1.897784e+05</td>\n",
              "      <td>10.080679</td>\n",
              "      <td>1077.648844</td>\n",
              "      <td>87.303830</td>\n",
              "      <td>40.437456</td>\n",
              "    </tr>\n",
              "    <tr>\n",
              "      <th>std</th>\n",
              "      <td>13.640433</td>\n",
              "      <td>1.055500e+05</td>\n",
              "      <td>2.572720</td>\n",
              "      <td>7385.292085</td>\n",
              "      <td>402.960219</td>\n",
              "      <td>12.347429</td>\n",
              "    </tr>\n",
              "    <tr>\n",
              "      <th>min</th>\n",
              "      <td>17.000000</td>\n",
              "      <td>1.228500e+04</td>\n",
              "      <td>1.000000</td>\n",
              "      <td>0.000000</td>\n",
              "      <td>0.000000</td>\n",
              "      <td>1.000000</td>\n",
              "    </tr>\n",
              "    <tr>\n",
              "      <th>25%</th>\n",
              "      <td>28.000000</td>\n",
              "      <td>1.178270e+05</td>\n",
              "      <td>9.000000</td>\n",
              "      <td>0.000000</td>\n",
              "      <td>0.000000</td>\n",
              "      <td>40.000000</td>\n",
              "    </tr>\n",
              "    <tr>\n",
              "      <th>50%</th>\n",
              "      <td>37.000000</td>\n",
              "      <td>1.783560e+05</td>\n",
              "      <td>10.000000</td>\n",
              "      <td>0.000000</td>\n",
              "      <td>0.000000</td>\n",
              "      <td>40.000000</td>\n",
              "    </tr>\n",
              "    <tr>\n",
              "      <th>75%</th>\n",
              "      <td>48.000000</td>\n",
              "      <td>2.370510e+05</td>\n",
              "      <td>12.000000</td>\n",
              "      <td>0.000000</td>\n",
              "      <td>0.000000</td>\n",
              "      <td>45.000000</td>\n",
              "    </tr>\n",
              "    <tr>\n",
              "      <th>max</th>\n",
              "      <td>90.000000</td>\n",
              "      <td>1.484705e+06</td>\n",
              "      <td>16.000000</td>\n",
              "      <td>99999.000000</td>\n",
              "      <td>4356.000000</td>\n",
              "      <td>99.000000</td>\n",
              "    </tr>\n",
              "  </tbody>\n",
              "</table>\n",
              "</div>\n",
              "      <button class=\"colab-df-convert\" onclick=\"convertToInteractive('df-4fa0ae5c-0095-4394-8198-fd03946c7522')\"\n",
              "              title=\"Convert this dataframe to an interactive table.\"\n",
              "              style=\"display:none;\">\n",
              "        \n",
              "  <svg xmlns=\"http://www.w3.org/2000/svg\" height=\"24px\"viewBox=\"0 0 24 24\"\n",
              "       width=\"24px\">\n",
              "    <path d=\"M0 0h24v24H0V0z\" fill=\"none\"/>\n",
              "    <path d=\"M18.56 5.44l.94 2.06.94-2.06 2.06-.94-2.06-.94-.94-2.06-.94 2.06-2.06.94zm-11 1L8.5 8.5l.94-2.06 2.06-.94-2.06-.94L8.5 2.5l-.94 2.06-2.06.94zm10 10l.94 2.06.94-2.06 2.06-.94-2.06-.94-.94-2.06-.94 2.06-2.06.94z\"/><path d=\"M17.41 7.96l-1.37-1.37c-.4-.4-.92-.59-1.43-.59-.52 0-1.04.2-1.43.59L10.3 9.45l-7.72 7.72c-.78.78-.78 2.05 0 2.83L4 21.41c.39.39.9.59 1.41.59.51 0 1.02-.2 1.41-.59l7.78-7.78 2.81-2.81c.8-.78.8-2.07 0-2.86zM5.41 20L4 18.59l7.72-7.72 1.47 1.35L5.41 20z\"/>\n",
              "  </svg>\n",
              "      </button>\n",
              "      \n",
              "  <style>\n",
              "    .colab-df-container {\n",
              "      display:flex;\n",
              "      flex-wrap:wrap;\n",
              "      gap: 12px;\n",
              "    }\n",
              "\n",
              "    .colab-df-convert {\n",
              "      background-color: #E8F0FE;\n",
              "      border: none;\n",
              "      border-radius: 50%;\n",
              "      cursor: pointer;\n",
              "      display: none;\n",
              "      fill: #1967D2;\n",
              "      height: 32px;\n",
              "      padding: 0 0 0 0;\n",
              "      width: 32px;\n",
              "    }\n",
              "\n",
              "    .colab-df-convert:hover {\n",
              "      background-color: #E2EBFA;\n",
              "      box-shadow: 0px 1px 2px rgba(60, 64, 67, 0.3), 0px 1px 3px 1px rgba(60, 64, 67, 0.15);\n",
              "      fill: #174EA6;\n",
              "    }\n",
              "\n",
              "    [theme=dark] .colab-df-convert {\n",
              "      background-color: #3B4455;\n",
              "      fill: #D2E3FC;\n",
              "    }\n",
              "\n",
              "    [theme=dark] .colab-df-convert:hover {\n",
              "      background-color: #434B5C;\n",
              "      box-shadow: 0px 1px 3px 1px rgba(0, 0, 0, 0.15);\n",
              "      filter: drop-shadow(0px 1px 2px rgba(0, 0, 0, 0.3));\n",
              "      fill: #FFFFFF;\n",
              "    }\n",
              "  </style>\n",
              "\n",
              "      <script>\n",
              "        const buttonEl =\n",
              "          document.querySelector('#df-4fa0ae5c-0095-4394-8198-fd03946c7522 button.colab-df-convert');\n",
              "        buttonEl.style.display =\n",
              "          google.colab.kernel.accessAllowed ? 'block' : 'none';\n",
              "\n",
              "        async function convertToInteractive(key) {\n",
              "          const element = document.querySelector('#df-4fa0ae5c-0095-4394-8198-fd03946c7522');\n",
              "          const dataTable =\n",
              "            await google.colab.kernel.invokeFunction('convertToInteractive',\n",
              "                                                     [key], {});\n",
              "          if (!dataTable) return;\n",
              "\n",
              "          const docLinkHtml = 'Like what you see? Visit the ' +\n",
              "            '<a target=\"_blank\" href=https://colab.research.google.com/notebooks/data_table.ipynb>data table notebook</a>'\n",
              "            + ' to learn more about interactive tables.';\n",
              "          element.innerHTML = '';\n",
              "          dataTable['output_type'] = 'display_data';\n",
              "          await google.colab.output.renderOutput(dataTable, element);\n",
              "          const docLink = document.createElement('div');\n",
              "          docLink.innerHTML = docLinkHtml;\n",
              "          element.appendChild(docLink);\n",
              "        }\n",
              "      </script>\n",
              "    </div>\n",
              "  </div>\n",
              "  "
            ]
          },
          "metadata": {},
          "execution_count": 13
        }
      ]
    },
    {
      "cell_type": "code",
      "source": [
        "def minMax(minA,maxA,val):\n",
        "  return (val-minA)/(maxA-minA)"
      ],
      "metadata": {
        "id": "TEaFHE4C3fi3"
      },
      "execution_count": null,
      "outputs": []
    },
    {
      "cell_type": "markdown",
      "source": [
        "The age method takes the difference between the two normalized age values passed to the function.\n"
      ],
      "metadata": {
        "id": "DHxafl8i8D18"
      }
    },
    {
      "cell_type": "code",
      "source": [
        "#age\n",
        "def ageComp(one, two):\n",
        "  min = 17\n",
        "  max = 90\n",
        "  return 1 - (abs(minMax(min,max,one) - minMax(min,max,two)))"
      ],
      "metadata": {
        "id": "Dbr67k1-gY9V"
      },
      "execution_count": null,
      "outputs": []
    },
    {
      "cell_type": "markdown",
      "source": [
        "Because the workclass variable is nominal, we chose to measure difference by equivalence; that is, it returns 1 if the classes are the same, and 0 if the classes are different."
      ],
      "metadata": {
        "id": "NXOz7H9v87g9"
      }
    },
    {
      "cell_type": "code",
      "source": [
        "#workclass\n",
        "def workclassComp(classA, classB):\n",
        "  if(classA==classB):\n",
        "    return 1\n",
        "  else:\n",
        "    return 0"
      ],
      "metadata": {
        "id": "j0HqH7CT_Anr"
      },
      "execution_count": null,
      "outputs": []
    },
    {
      "cell_type": "markdown",
      "source": [
        "The fnlwgt method takes the difference between the two normalized age values passed to the function."
      ],
      "metadata": {
        "id": "XlzLJnxK_g7g"
      }
    },
    {
      "cell_type": "code",
      "source": [
        "#fnlwgt\n",
        "def fnlwgtComp(one, two):\n",
        "  min = 1.228500e+04\n",
        "  max = 1.484705e+06\n",
        "  return 1 - (abs(minMax(min,max,one) - minMax(min,max,two)))"
      ],
      "metadata": {
        "id": "CD3-pUtyAvrw"
      },
      "execution_count": null,
      "outputs": []
    },
    {
      "cell_type": "markdown",
      "source": [
        "Because the education variable is nominal, we chose to measure difference by equivalence; that is, it returns 1 if the classes are the same, and 0 if the classes are different."
      ],
      "metadata": {
        "id": "cWihmxkuFJ_t"
      }
    },
    {
      "cell_type": "code",
      "source": [
        "#education\n",
        "def educationComp(one,two):\n",
        "  if(one==two):\n",
        "    return 1\n",
        "  else:\n",
        "    return 0"
      ],
      "metadata": {
        "id": "YiUvkOpGF3QL"
      },
      "execution_count": null,
      "outputs": []
    },
    {
      "cell_type": "markdown",
      "source": [
        "The educationNum method takes the difference between the two normalized age values passed to the function."
      ],
      "metadata": {
        "id": "bTMELxKRJuto"
      }
    },
    {
      "cell_type": "code",
      "source": [
        "#educationNum\n",
        "def educationNumComp(one, two):\n",
        "  min = 1\n",
        "  max = 16\n",
        "  return 1 - (abs(minMax(min,max,one) - minMax(min,max,two)))"
      ],
      "metadata": {
        "id": "j86XkZW68OwN"
      },
      "execution_count": null,
      "outputs": []
    },
    {
      "cell_type": "markdown",
      "source": [
        "Because the maritalStatus variable is nominal, we chose to measure difference by equivalence; that is, it returns 1 if the classes are the same, and 0 if the classes are different."
      ],
      "metadata": {
        "id": "VDJl8PQwKfmY"
      }
    },
    {
      "cell_type": "code",
      "source": [
        "#marital status\n",
        "def maritalStatusComp(classA, classB):\n",
        "  if(classA==classB):\n",
        "    return 1\n",
        "  else:\n",
        "    return 0"
      ],
      "metadata": {
        "id": "K1uVzT-w8ZKl"
      },
      "execution_count": null,
      "outputs": []
    },
    {
      "cell_type": "markdown",
      "source": [
        "Because the occupation variable is nominal, we chose to measure difference by equivalence; that is, it returns 1 if the classes are the same, and 0 if the classes are different."
      ],
      "metadata": {
        "id": "OG-vNqS5KmnC"
      }
    },
    {
      "cell_type": "code",
      "source": [
        "#Occupation\n",
        "def occupationComp(one, two):\n",
        "  if(one==two):\n",
        "    return 1\n",
        "  else:\n",
        "    return 0"
      ],
      "metadata": {
        "id": "q8xCmUlO8oFt"
      },
      "execution_count": null,
      "outputs": []
    },
    {
      "cell_type": "markdown",
      "source": [
        "Because the race variable is nominal, we chose to measure difference by equivalence; that is, it returns 1 if the classes are the same, and 0 if the classes are different."
      ],
      "metadata": {
        "id": "Z-J0_4U1Kq6q"
      }
    },
    {
      "cell_type": "code",
      "source": [
        "#race\n",
        "def raceComp(classA, classB):\n",
        "  if(classA==classB):\n",
        "    return 1\n",
        "  else:\n",
        "    return 0"
      ],
      "metadata": {
        "id": "_57_qxgr8u4t"
      },
      "execution_count": null,
      "outputs": []
    },
    {
      "cell_type": "markdown",
      "source": [
        "Because the sex variable is nominal, we chose to measure difference by equivalence; that is, it returns 1 if the classes are the same, and 0 if the classes are different."
      ],
      "metadata": {
        "id": "sWC4boKsKuZ_"
      }
    },
    {
      "cell_type": "code",
      "source": [
        "#sex\n",
        "def sexComp(classA, classB):\n",
        "  if(classA==classB):\n",
        "    return 1\n",
        "  else:\n",
        "    return 0"
      ],
      "metadata": {
        "id": "C5ypt14I84ZU"
      },
      "execution_count": null,
      "outputs": []
    },
    {
      "cell_type": "markdown",
      "source": [
        "Because the relationship variable is nominal, we chose to measure difference by equivalence; that is, it returns 1 if the classes are the same, and 0 if the classes are different."
      ],
      "metadata": {
        "id": "udwL5BdEKwT0"
      }
    },
    {
      "cell_type": "code",
      "source": [
        "#relationship\n",
        "def relationshipComp(classA, classB):\n",
        "  if(classA==classB):\n",
        "    return 1\n",
        "  else:\n",
        "    return 0"
      ],
      "metadata": {
        "id": "Ve3Nw2b388zz"
      },
      "execution_count": null,
      "outputs": []
    },
    {
      "cell_type": "markdown",
      "source": [
        "The capitalGain method takes the difference between the two normalized age values passed to the function."
      ],
      "metadata": {
        "id": "1KSBRiyVJ3LM"
      }
    },
    {
      "cell_type": "code",
      "source": [
        "#capital-gain\n",
        "def capitalGainComp(one, two):\n",
        "  min = 0\n",
        "  max = 99999\n",
        "  return 1 - (abs(minMax(min,max,one) - minMax(min,max,two)))"
      ],
      "metadata": {
        "id": "PZt3dUNTArEL"
      },
      "execution_count": null,
      "outputs": []
    },
    {
      "cell_type": "markdown",
      "source": [
        "The capitalLoss method takes the difference between the two normalized age values passed to the function."
      ],
      "metadata": {
        "id": "2FnRxrRnJ6BT"
      }
    },
    {
      "cell_type": "code",
      "source": [
        "#capital-loss\n",
        "def capitalLossComp(one, two):\n",
        "  min = 0\n",
        "  max = 4356\n",
        "  return 1 - (abs(minMax(min,max,one) - minMax(min,max,two)))"
      ],
      "metadata": {
        "id": "EXAYFC_VCcm2"
      },
      "execution_count": null,
      "outputs": []
    },
    {
      "cell_type": "markdown",
      "source": [
        "The hoursPerWeek method takes the difference between the two normalized age values passed to the function."
      ],
      "metadata": {
        "id": "4nX4XG2aKEU4"
      }
    },
    {
      "cell_type": "code",
      "source": [
        "#hours-per-week\n",
        "def hoursPerWeekComp(one, two):\n",
        "  min = 1\n",
        "  max = 99\n",
        "  return 1 - (abs(minMax(min,max,one) - minMax(min,max,two)))"
      ],
      "metadata": {
        "id": "1Kxyr2JpDDi4"
      },
      "execution_count": null,
      "outputs": []
    },
    {
      "cell_type": "markdown",
      "source": [
        "Because the nativeCountry variable is nominal, we chose to measure difference by equivalence; that is, it returns 1 if the classes are the same, and 0 if the classes are different."
      ],
      "metadata": {
        "id": "JutPxukUKz6I"
      }
    },
    {
      "cell_type": "code",
      "source": [
        "#native-country\n",
        "def nativeCountryComp(one, two):\n",
        "  if(one==two):\n",
        "    return 1\n",
        "  else:\n",
        "    return 0"
      ],
      "metadata": {
        "id": "1k3Xj6f68jXN"
      },
      "execution_count": null,
      "outputs": []
    },
    {
      "cell_type": "markdown",
      "source": [
        "Because the salary variable is nominal, we chose to measure difference by equivalence; that is, it returns 1 if the classes are the same, and 0 if the classes are different."
      ],
      "metadata": {
        "id": "oUs6rQR9K3i8"
      }
    },
    {
      "cell_type": "code",
      "source": [
        "#salary\n",
        "def salaryComp(one,two):\n",
        "  if(one==two):\n",
        "    return 1\n",
        "  else:\n",
        "    return 0"
      ],
      "metadata": {
        "id": "IlamZWMR9D7Q"
      },
      "execution_count": null,
      "outputs": []
    },
    {
      "cell_type": "markdown",
      "source": [
        "We chose to use euclidean distance to take the values from two entire records in the data set and return the distance between them. We then divided the euclidean distance by 15 to normalize the distance value, bringing it to a range of [0,1]."
      ],
      "metadata": {
        "id": "2_OgLD0cK-GO"
      }
    },
    {
      "cell_type": "code",
      "source": [
        "def euclideanDist(rowIndexOne,rowIndexTwo):\n",
        "  Age = ageComp(adultData.iloc[rowIndexOne][0],adultData.iloc[rowIndexTwo][0])\n",
        "  Workclass = workclassComp(adultData.iloc[rowIndexOne][1],adultData.iloc[rowIndexTwo][1])\n",
        "  Fnlwgt = fnlwgtComp(adultData.iloc[rowIndexOne][2],adultData.iloc[rowIndexTwo][2])\n",
        "  Education = educationComp(adultData.iloc[rowIndexOne][3],adultData.iloc[rowIndexTwo][3])\n",
        "  EducationNum = educationNumComp(adultData.iloc[rowIndexOne][4],adultData.iloc[rowIndexTwo][4])\n",
        "  MaritalStatus = maritalStatusComp(adultData.iloc[rowIndexOne][5],adultData.iloc[rowIndexTwo][5])\n",
        "  Occupation = occupationComp(adultData.iloc[rowIndexOne][6],adultData.iloc[rowIndexTwo][6])\n",
        "  Relationship = relationshipComp(adultData.iloc[rowIndexOne][7],adultData.iloc[rowIndexTwo][7])\n",
        "  Race = raceComp(adultData.iloc[rowIndexOne][8],adultData.iloc[rowIndexTwo][8])\n",
        "  Sex = sexComp(adultData.iloc[rowIndexOne][9],adultData.iloc[rowIndexTwo][9])\n",
        "  CapitalGain = capitalGainComp(adultData.iloc[rowIndexOne][10],adultData.iloc[rowIndexTwo][10])\n",
        "  CapitalLoss = capitalLossComp(adultData.iloc[rowIndexOne][11],adultData.iloc[rowIndexTwo][11])\n",
        "  HoursPerWeek = hoursPerWeekComp(adultData.iloc[rowIndexOne][12],adultData.iloc[rowIndexTwo][12])\n",
        "  NativeCountry = nativeCountryComp(adultData.iloc[rowIndexOne][13],adultData.iloc[rowIndexTwo][13])\n",
        "  Salary = salaryComp(adultData.iloc[rowIndexOne][14],adultData.iloc[rowIndexTwo][14])\n",
        "  dist = math.sqrt((Age**2) + (Fnlwgt**2) + (Education**2) + (EducationNum**2) + (MaritalStatus**2) + (Occupation**2) + (Relationship**2) + (Race**2) + (CapitalGain**2) + (CapitalLoss**2) + (HoursPerWeek**2) + (NativeCountry**2) + (Salary**2))\n",
        "  return (dist/15)"
      ],
      "metadata": {
        "id": "C5CBAtxs98Zh"
      },
      "execution_count": null,
      "outputs": []
    }
  ]
}